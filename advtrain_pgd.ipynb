{
 "cells": [
  {
   "cell_type": "code",
   "execution_count": 1,
   "metadata": {},
   "outputs": [],
   "source": [
    "import gc\n",
    "import random\n",
    "\n",
    "import keras\n",
    "import numpy as np\n",
    "import seaborn as sns\n",
    "import tensorflow as tf\n",
    "\n",
    "tf.compat.v1.disable_eager_execution()\n",
    "\n",
    "from art import config\n",
    "from art.utils import load_dataset\n",
    "from art.estimators.classification import KerasClassifier\n",
    "from art.attacks.evasion import ProjectedGradientDescent\n",
    "from art.data_generators import KerasDataGenerator\n",
    "from art.defences.trainer import AdversarialTrainer\n",
    "\n",
    "from sklearn.metrics import classification_report, accuracy_score\n",
    "from sklearn.model_selection import train_test_split\n",
    "\n",
    "from keras.models import Sequential\n",
    "from keras.layers import Dense, Dropout, Flatten, Conv2D, MaxPool2D\n",
    "from keras.layers import BatchNormalization\n",
    "from keras.preprocessing.image import ImageDataGenerator\n",
    "\n",
    "\n",
    "from matplotlib import pyplot as plt\n",
    "\n",
    "from tqdm.auto import tqdm"
   ]
  },
  {
   "cell_type": "markdown",
   "metadata": {},
   "source": [
    "## Params"
   ]
  },
  {
   "cell_type": "code",
   "execution_count": 2,
   "metadata": {},
   "outputs": [],
   "source": [
    "# fix randomness\n",
    "seed = 42\n",
    "\n",
    "random.seed(seed)\n",
    "np.random.seed(seed)\n",
    "tf.random.set_seed(seed)\n",
    "\n",
    "# training parameters\n",
    "n_epochs = 20\n",
    "batch_size = 128\n",
    "dataset_subsample = 0.5"
   ]
  },
  {
   "cell_type": "markdown",
   "metadata": {},
   "source": [
    "## Data"
   ]
  },
  {
   "cell_type": "code",
   "execution_count": 3,
   "metadata": {},
   "outputs": [
    {
     "name": "stdout",
     "output_type": "stream",
     "text": [
      "(30000, 28, 28, 1) (5000, 28, 28, 1) (30000, 10) (5000, 10)\n"
     ]
    }
   ],
   "source": [
    "# load data\n",
    "(x_train, y_train), (x_test, y_test), min_, max_ = load_dataset('mnist')\n",
    "\n",
    "# Subsample the data set for speed\n",
    "_, x_train_s = train_test_split(x_train, test_size=dataset_subsample, random_state=seed, stratify=y_train)\n",
    "_, x_test_s = train_test_split(x_test, test_size=dataset_subsample, random_state=seed, stratify=y_test)\n",
    "_, y_train_s = train_test_split(y_train, test_size=dataset_subsample, random_state=seed, stratify=y_train)\n",
    "_, y_test_s = train_test_split(y_test, test_size=dataset_subsample, random_state=seed, stratify=y_test)\n",
    "\n",
    "# labels as integers\n",
    "y_test_s_labels = np.argmax(y_test_s, axis=-1)\n",
    "\n",
    "print(x_train_s.shape, x_test_s.shape, y_train_s.shape, y_test_s.shape)"
   ]
  },
  {
   "cell_type": "markdown",
   "metadata": {},
   "source": [
    "## Model"
   ]
  },
  {
   "cell_type": "code",
   "execution_count": 4,
   "metadata": {},
   "outputs": [],
   "source": [
    "def build_model(input_shape, num_classes):\n",
    "    model = Sequential()\n",
    "    model.add(Conv2D(32, kernel_size=(3, 3),activation='relu',kernel_initializer='he_normal',input_shape=input_shape))\n",
    "    model.add(MaxPool2D((2, 2)))\n",
    "    model.add(Conv2D(64, (3, 3), activation='relu',padding='same',kernel_initializer='he_normal'))\n",
    "    model.add(MaxPool2D((2, 2)))\n",
    "    model.add(Flatten())\n",
    "    model.add(Dense(1024, activation='relu'))\n",
    "    model.add(Dense(num_classes, activation='softmax'))\n",
    "    \n",
    "\n",
    "    model.compile(\n",
    "        loss=keras.losses.categorical_crossentropy,\n",
    "        optimizer=keras.optimizers.Adam(learning_rate=0.001),\n",
    "        metrics=['accuracy']\n",
    "    )\n",
    "    \n",
    "    return model"
   ]
  },
  {
   "cell_type": "code",
   "execution_count": 12,
   "metadata": {},
   "outputs": [
    {
     "name": "stdout",
     "output_type": "stream",
     "text": [
      "Model: \"sequential_1\"\n",
      "_________________________________________________________________\n",
      "Layer (type)                 Output Shape              Param #   \n",
      "=================================================================\n",
      "conv2d_2 (Conv2D)            (None, 26, 26, 32)        320       \n",
      "_________________________________________________________________\n",
      "max_pooling2d_2 (MaxPooling2 (None, 13, 13, 32)        0         \n",
      "_________________________________________________________________\n",
      "conv2d_3 (Conv2D)            (None, 13, 13, 64)        18496     \n",
      "_________________________________________________________________\n",
      "max_pooling2d_3 (MaxPooling2 (None, 6, 6, 64)          0         \n",
      "_________________________________________________________________\n",
      "flatten_1 (Flatten)          (None, 2304)              0         \n",
      "_________________________________________________________________\n",
      "dense_2 (Dense)              (None, 1024)              2360320   \n",
      "_________________________________________________________________\n",
      "dense_3 (Dense)              (None, 10)                10250     \n",
      "=================================================================\n",
      "Total params: 2,389,386\n",
      "Trainable params: 2,389,386\n",
      "Non-trainable params: 0\n",
      "_________________________________________________________________\n",
      "None\n",
      "Train on 30000 samples\n",
      "Epoch 1/10\n",
      "30000/30000 [==============================] - 11s 352us/sample - loss: 0.1585 - accuracy: 0.9561\n",
      "Epoch 2/10\n",
      "30000/30000 [==============================] - 11s 353us/sample - loss: 0.0444 - accuracy: 0.9855\n",
      "Epoch 3/10\n",
      "30000/30000 [==============================] - 10s 349us/sample - loss: 0.0286 - accuracy: 0.9913\n",
      "Epoch 4/10\n",
      "30000/30000 [==============================] - 10s 349us/sample - loss: 0.0205 - accuracy: 0.9932\n",
      "Epoch 5/10\n",
      "30000/30000 [==============================] - 10s 348us/sample - loss: 0.0178 - accuracy: 0.9945\n",
      "Epoch 6/10\n",
      "30000/30000 [==============================] - 10s 350us/sample - loss: 0.0138 - accuracy: 0.9960\n",
      "Epoch 7/10\n",
      "30000/30000 [==============================] - 11s 352us/sample - loss: 0.0126 - accuracy: 0.9955\n",
      "Epoch 8/10\n",
      "30000/30000 [==============================] - 11s 352us/sample - loss: 0.0095 - accuracy: 0.9970\n",
      "Epoch 9/10\n",
      "30000/30000 [==============================] - 10s 349us/sample - loss: 0.0076 - accuracy: 0.9974\n",
      "Epoch 10/10\n",
      "30000/30000 [==============================] - 10s 349us/sample - loss: 0.0091 - accuracy: 0.9970\n",
      "Accuracy on clean testing data\n",
      "              precision    recall  f1-score   support\n",
      "\n",
      "           0    0.99180   0.98776   0.98978       490\n",
      "           1    0.98949   0.99647   0.99297       567\n",
      "           2    0.97701   0.98837   0.98266       516\n",
      "           3    0.98225   0.98614   0.98419       505\n",
      "           4    0.99378   0.97556   0.98458       491\n",
      "           5    0.98420   0.97758   0.98088       446\n",
      "           6    0.98734   0.97704   0.98216       479\n",
      "           7    0.94640   0.99611   0.97062       514\n",
      "           8    0.98739   0.96509   0.97612       487\n",
      "           9    0.98589   0.96832   0.97702       505\n",
      "\n",
      "    accuracy                        0.98220      5000\n",
      "   macro avg    0.98255   0.98184   0.98210      5000\n",
      "weighted avg    0.98244   0.98220   0.98222      5000\n",
      "\n"
     ]
    }
   ],
   "source": [
    "# Check that the model would train normally\n",
    "model = build_model(input_shape=(28, 28, 1), num_classes=10)\n",
    "print(model.summary())\n",
    "model.fit(x_train_s, y_train_s, epochs=10)\n",
    "safety_pred = np.argmax(model.predict(x_test_s), axis=-1)\n",
    "print('Accuracy on clean testing data')\n",
    "print(classification_report(y_test_s_labels, safety_pred, digits=5))"
   ]
  },
  {
   "cell_type": "code",
   "execution_count": 13,
   "metadata": {},
   "outputs": [],
   "source": [
    "del model"
   ]
  },
  {
   "cell_type": "markdown",
   "metadata": {},
   "source": [
    "## Adversarial training"
   ]
  },
  {
   "cell_type": "code",
   "execution_count": 6,
   "metadata": {},
   "outputs": [],
   "source": [
    "model = build_model(input_shape=(28, 28, 1), num_classes=10)\n",
    "\n",
    "# Wrappers for ART\n",
    "classifier = KerasClassifier(\n",
    "    model=model,\n",
    "    clip_values=(min_, max_),\n",
    "    use_logits=False\n",
    ")"
   ]
  },
  {
   "cell_type": "code",
   "execution_count": 7,
   "metadata": {},
   "outputs": [],
   "source": [
    "# Attacker object\n",
    "pgd = ProjectedGradientDescent(\n",
    "    classifier,\n",
    "    eps=0.3,\n",
    "    eps_step=0.01,\n",
    "    max_iter=40\n",
    ")"
   ]
  },
  {
   "cell_type": "code",
   "execution_count": 8,
   "metadata": {},
   "outputs": [
    {
     "data": {
      "application/vnd.jupyter.widget-view+json": {
       "model_id": "499fae3fa33343d1a8173c76434eddce",
       "version_major": 2,
       "version_minor": 0
      },
      "text/plain": [
       "HBox(children=(FloatProgress(value=0.0, description='Precompute adv samples', max=1.0, style=ProgressStyle(des…"
      ]
     },
     "metadata": {},
     "output_type": "display_data"
    },
    {
     "name": "stdout",
     "output_type": "stream",
     "text": [
      "\n"
     ]
    },
    {
     "data": {
      "application/vnd.jupyter.widget-view+json": {
       "model_id": "7a6335554bb84f6da6e4a4c08003a15b",
       "version_major": 2,
       "version_minor": 0
      },
      "text/plain": [
       "HBox(children=(FloatProgress(value=0.0, description='Adversarial training epochs', max=20.0, style=ProgressSty…"
      ]
     },
     "metadata": {},
     "output_type": "display_data"
    },
    {
     "name": "stdout",
     "output_type": "stream",
     "text": [
      "WARNING:tensorflow:From /home/giorgioseveri/.virtualenvs/maax/lib/python3.8/site-packages/tensorflow/python/keras/engine/training_v1.py:2070: Model.state_updates (from tensorflow.python.keras.engine.training) is deprecated and will be removed in a future version.\n",
      "Instructions for updating:\n",
      "This property should not be used in TensorFlow 2.0, as updates are applied automatically.\n",
      "WARNING:tensorflow:From /home/giorgioseveri/.virtualenvs/maax/lib/python3.8/site-packages/art/estimators/classification/keras.py:517: Model.fit_generator (from tensorflow.python.keras.engine.training_v1) is deprecated and will be removed in a future version.\n",
      "Instructions for updating:\n",
      "Please use Model.fit, which supports generators.\n",
      "\n",
      "CPU times: user 1d 37min 39s, sys: 1h 1min 35s, total: 1d 1h 39min 15s\n",
      "Wall time: 1h 45min 36s\n"
     ]
    }
   ],
   "source": [
    "%%time\n",
    "\n",
    "# Create adversarial trainer and perform adversarial training\n",
    "trainer = AdversarialTrainer(\n",
    "    classifier,\n",
    "    pgd,\n",
    "    ratio=1.0\n",
    ")\n",
    "\n",
    "trainer.fit(x_train_s, y_train_s, nb_epochs=n_epochs, batch_size=batch_size)"
   ]
  },
  {
   "cell_type": "code",
   "execution_count": 9,
   "metadata": {},
   "outputs": [
    {
     "name": "stdout",
     "output_type": "stream",
     "text": [
      "Accuracy on clean testing data\n",
      "              precision    recall  f1-score   support\n",
      "\n",
      "           0    0.00000   0.00000   0.00000       490\n",
      "           1    0.11340   1.00000   0.20370       567\n",
      "           2    0.00000   0.00000   0.00000       516\n",
      "           3    0.00000   0.00000   0.00000       505\n",
      "           4    0.00000   0.00000   0.00000       491\n",
      "           5    0.00000   0.00000   0.00000       446\n",
      "           6    0.00000   0.00000   0.00000       479\n",
      "           7    0.00000   0.00000   0.00000       514\n",
      "           8    0.00000   0.00000   0.00000       487\n",
      "           9    0.00000   0.00000   0.00000       505\n",
      "\n",
      "    accuracy                        0.11340      5000\n",
      "   macro avg    0.01134   0.10000   0.02037      5000\n",
      "weighted avg    0.01286   0.11340   0.02310      5000\n",
      "\n"
     ]
    },
    {
     "name": "stderr",
     "output_type": "stream",
     "text": [
      "/home/giorgioseveri/.virtualenvs/maax/lib/python3.8/site-packages/sklearn/metrics/_classification.py:1221: UndefinedMetricWarning: Precision and F-score are ill-defined and being set to 0.0 in labels with no predicted samples. Use `zero_division` parameter to control this behavior.\n",
      "  _warn_prf(average, modifier, msg_start, len(result))\n"
     ]
    }
   ],
   "source": [
    "# Evaluate the adversarially trained model on clean test set\n",
    "test_pred = np.argmax(classifier.predict(x_test_s), axis=-1)\n",
    "print('Accuracy on clean testing data')\n",
    "print(classification_report(y_test_s_labels, test_pred, digits=5))"
   ]
  },
  {
   "cell_type": "code",
   "execution_count": 9,
   "metadata": {},
   "outputs": [
    {
     "name": "stdout",
     "output_type": "stream",
     "text": [
      "Accuracy on clean testing data\n",
      "              precision    recall  f1-score   support\n",
      "\n",
      "           0    0.00000   0.00000   0.00000       490\n",
      "           1    0.11340   1.00000   0.20370       567\n",
      "           2    0.00000   0.00000   0.00000       516\n",
      "           3    0.00000   0.00000   0.00000       505\n",
      "           4    0.00000   0.00000   0.00000       491\n",
      "           5    0.00000   0.00000   0.00000       446\n",
      "           6    0.00000   0.00000   0.00000       479\n",
      "           7    0.00000   0.00000   0.00000       514\n",
      "           8    0.00000   0.00000   0.00000       487\n",
      "           9    0.00000   0.00000   0.00000       505\n",
      "\n",
      "    accuracy                        0.11340      5000\n",
      "   macro avg    0.01134   0.10000   0.02037      5000\n",
      "weighted avg    0.01286   0.11340   0.02310      5000\n",
      "\n"
     ]
    },
    {
     "name": "stderr",
     "output_type": "stream",
     "text": [
      "/home/giorgioseveri/.virtualenvs/maax/lib/python3.8/site-packages/sklearn/metrics/_classification.py:1221: UndefinedMetricWarning: Precision and F-score are ill-defined and being set to 0.0 in labels with no predicted samples. Use `zero_division` parameter to control this behavior.\n",
      "  _warn_prf(average, modifier, msg_start, len(result))\n"
     ]
    }
   ],
   "source": [
    "# Evaluate the adversarially trained model on clean test set\n",
    "test_pred = np.argmax(classifier.predict(x_test_s), axis=-1)\n",
    "print('Accuracy on clean testing data')\n",
    "print(classification_report(y_test_s_labels, test_pred, digits=5))"
   ]
  },
  {
   "cell_type": "code",
   "execution_count": 10,
   "metadata": {
    "scrolled": true
   },
   "outputs": [
    {
     "name": "stdout",
     "output_type": "stream",
     "text": [
      "CPU times: user 15.6 s, sys: 490 ms, total: 16.1 s\n",
      "Wall time: 1.32 s\n"
     ]
    }
   ],
   "source": [
    "%%time\n",
    "\n",
    "# Evaluate the adversarially trained model on fresh adversarial samples produced on the adversarially trained model\n",
    "x_test_pgd_new = pgd.generate(x_test_s[:100])"
   ]
  },
  {
   "cell_type": "code",
   "execution_count": 11,
   "metadata": {},
   "outputs": [
    {
     "name": "stdout",
     "output_type": "stream",
     "text": [
      "              precision    recall  f1-score   support\n",
      "\n",
      "           0    0.00000   0.00000   0.00000        14\n",
      "           1    0.13000   1.00000   0.23009        13\n",
      "           2    0.00000   0.00000   0.00000        10\n",
      "           3    0.00000   0.00000   0.00000         8\n",
      "           4    0.00000   0.00000   0.00000        10\n",
      "           5    0.00000   0.00000   0.00000         7\n",
      "           6    0.00000   0.00000   0.00000        12\n",
      "           7    0.00000   0.00000   0.00000        10\n",
      "           8    0.00000   0.00000   0.00000         9\n",
      "           9    0.00000   0.00000   0.00000         7\n",
      "\n",
      "    accuracy                        0.13000       100\n",
      "   macro avg    0.01300   0.10000   0.02301       100\n",
      "weighted avg    0.01690   0.13000   0.02991       100\n",
      "\n"
     ]
    }
   ],
   "source": [
    "labels_pgd_new = np.argmax(classifier.predict(x_test_pgd_new), axis=-1)\n",
    "print(classification_report(y_test_s_labels[:100], labels_pgd_new, digits=5))"
   ]
  },
  {
   "cell_type": "code",
   "execution_count": null,
   "metadata": {},
   "outputs": [],
   "source": []
  }
 ],
 "metadata": {
  "kernelspec": {
   "display_name": "Python 3",
   "language": "python",
   "name": "python3"
  },
  "language_info": {
   "codemirror_mode": {
    "name": "ipython",
    "version": 3
   },
   "file_extension": ".py",
   "mimetype": "text/x-python",
   "name": "python",
   "nbconvert_exporter": "python",
   "pygments_lexer": "ipython3",
   "version": "3.8.5"
  }
 },
 "nbformat": 4,
 "nbformat_minor": 4
}
