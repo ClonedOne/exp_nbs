{
 "cells": [
  {
   "cell_type": "markdown",
   "metadata": {},
   "source": [
    "# Intro \n",
    "This notebook should act as a visual reference to remeber what is contained in the [draper dataset](https://osf.io/d45bw/)."
   ]
  },
  {
   "cell_type": "code",
   "execution_count": 1,
   "metadata": {},
   "outputs": [],
   "source": [
    "import pandas\n",
    "import numpy\n",
    "import h5py\n",
    "import os"
   ]
  },
  {
   "cell_type": "code",
   "execution_count": 2,
   "metadata": {},
   "outputs": [],
   "source": [
    "train_path      = \"../draper_dataset/VDISC_train.hdf5\"\n",
    "test_path       = \"../draper_dataset/VDISC_test.hdf5\"\n",
    "validation_path = \"../draper_dataset/VDISC_validate.hdf5\""
   ]
  },
  {
   "cell_type": "markdown",
   "metadata": {},
   "source": [
    "The 3 files all have the same structure, and were generated with a classic 80:10:10 split."
   ]
  },
  {
   "cell_type": "code",
   "execution_count": 3,
   "metadata": {},
   "outputs": [],
   "source": [
    "train_f = h5py.File(train_path, 'r')"
   ]
  },
  {
   "cell_type": "code",
   "execution_count": 4,
   "metadata": {},
   "outputs": [
    {
     "name": "stdout",
     "output_type": "stream",
     "text": [
      "<class 'h5py._hl.files.File'>\n"
     ]
    }
   ],
   "source": [
    "print(type(train_f))"
   ]
  },
  {
   "cell_type": "markdown",
   "metadata": {},
   "source": [
    "# Data\n",
    "\n",
    "5 labels are considered: 4 representing the most commonly found CWEs, and the last including all the other, less frequent, CWEs.\n",
    "From the dataset readme:\n",
    "\n",
    "    CWE-120 (3.7% of functions)\n",
    "    CWE-119 (1.9% of functions)\n",
    "    CWE-469 (0.95% of functions)\n",
    "    CWE-476 (0.21% of functions)\n",
    "    CWE-other (2.7% of functions)\n",
    "\n",
    "The source code of each function is represented by a single UTF-8 string."
   ]
  },
  {
   "cell_type": "code",
   "execution_count": 5,
   "metadata": {},
   "outputs": [
    {
     "name": "stdout",
     "output_type": "stream",
     "text": [
      "CWE-119\n",
      "CWE-120\n",
      "CWE-469\n",
      "CWE-476\n",
      "CWE-other\n",
      "functionSource\n"
     ]
    }
   ],
   "source": [
    "for key in train_f.keys(): print(key)"
   ]
  },
  {
   "cell_type": "code",
   "execution_count": 6,
   "metadata": {},
   "outputs": [],
   "source": [
    "CWE_119        = train_f['CWE-119']   # Improper Restriction of Operations within the Bounds of a Memory Buffer\n",
    "CWE_120        = train_f['CWE-120']   # Buffer Overflow\n",
    "CWE_469        = train_f['CWE-469']   # Use of Pointer Subtraction to Determine Size\n",
    "CWE_476        = train_f['CWE-476']   # NULL Pointer Dereference\n",
    "CWE_other      = train_f['CWE-other'] # Multiple other CWEs\n",
    "functionSource = train_f['functionSource']"
   ]
  },
  {
   "cell_type": "code",
   "execution_count": 7,
   "metadata": {
    "scrolled": true
   },
   "outputs": [
    {
     "name": "stdout",
     "output_type": "stream",
     "text": [
      "<class 'h5py._hl.dataset.Dataset'>\n"
     ]
    }
   ],
   "source": [
    "print(type(CWE_119))"
   ]
  },
  {
   "cell_type": "markdown",
   "metadata": {},
   "source": [
    "## Labels\n",
    "\n",
    "The CWE datasets will contain only boolean values indicating whether the function at the same index is vulnerable with a vulnerability of that specific kind."
   ]
  },
  {
   "cell_type": "code",
   "execution_count": 8,
   "metadata": {
    "scrolled": true
   },
   "outputs": [
    {
     "name": "stdout",
     "output_type": "stream",
     "text": [
      "False\tFalse\tFalse\tFalse\tFalse\n",
      "False\tFalse\tFalse\tFalse\tFalse\n",
      "False\tFalse\tFalse\tFalse\tFalse\n",
      "False\tFalse\tFalse\tFalse\tFalse\n",
      "True\tTrue\tFalse\tFalse\tTrue\n",
      "False\tFalse\tFalse\tFalse\tFalse\n",
      "False\tFalse\tFalse\tFalse\tFalse\n",
      "False\tFalse\tFalse\tFalse\tFalse\n",
      "False\tFalse\tFalse\tFalse\tFalse\n",
      "False\tFalse\tFalse\tFalse\tFalse\n",
      "True\tTrue\tFalse\tFalse\tFalse\n"
     ]
    }
   ],
   "source": [
    "for i in range(11):\n",
    "    print(\"{}\\t{}\\t{}\\t{}\\t{}\".format(CWE_119[i], CWE_120[i], CWE_469[i], CWE_476[i], CWE_other[i]))"
   ]
  },
  {
   "cell_type": "markdown",
   "metadata": {},
   "source": [
    "Let's now see the number of vulenrable functions per CWE type:"
   ]
  },
  {
   "cell_type": "code",
   "execution_count": 9,
   "metadata": {},
   "outputs": [],
   "source": [
    "CWE_119_u,   CWE_119_c   = numpy.unique(CWE_119, return_counts=True)\n",
    "CWE_120_u,   CWE_120_c   = numpy.unique(CWE_120, return_counts=True)\n",
    "CWE_469_u,   CWE_469_c   = numpy.unique(CWE_469, return_counts=True)\n",
    "CWE_476_u,   CWE_476_c   = numpy.unique(CWE_476, return_counts=True)\n",
    "CWE_other_u, CWE_other_c = numpy.unique(CWE_other, return_counts=True)"
   ]
  },
  {
   "cell_type": "code",
   "execution_count": 10,
   "metadata": {},
   "outputs": [
    {
     "name": "stdout",
     "output_type": "stream",
     "text": [
      "Total functions in the dataset: 1019471\n",
      "Total functions vulnerable to CWE_119: 19286\n",
      "Total functions vulnerable to CWE_120: 38019\n",
      "Total functions vulnerable to CWE_469: 2095\n",
      "Total functions vulnerable to CWE_476: 9694\n",
      "Total functions vulnerable to CWE_other: 27959\n"
     ]
    }
   ],
   "source": [
    "print(\"Total functions in the dataset:\", len(CWE_119))\n",
    "print(\"Total functions vulnerable to CWE_119:\", CWE_119_c[1])\n",
    "print(\"Total functions vulnerable to CWE_120:\", CWE_120_c[1])\n",
    "print(\"Total functions vulnerable to CWE_469:\", CWE_469_c[1])\n",
    "print(\"Total functions vulnerable to CWE_476:\", CWE_476_c[1])\n",
    "print(\"Total functions vulnerable to CWE_other:\", CWE_other_c[1])"
   ]
  },
  {
   "cell_type": "markdown",
   "metadata": {},
   "source": [
    "A single function, however, could be vulnerable to multiple CWEs, therefore to obtain the total number of vulnerable functions we must scan through all the CWE datasets."
   ]
  },
  {
   "cell_type": "markdown",
   "metadata": {},
   "source": [
    "To make data access faster, we will create a pandas dataframe encapsulating the dataset. Default import will not work due to the presence of variable size strings, not managed by pytables."
   ]
  },
  {
   "cell_type": "code",
   "execution_count": 11,
   "metadata": {},
   "outputs": [],
   "source": [
    "train_df = pandas.DataFrame({\n",
    "    \"CWE-119\": CWE_119,\n",
    "    \"CWE-120\": CWE_120,\n",
    "    \"CWE-469\": CWE_469,\n",
    "    \"CWE-476\": CWE_476,\n",
    "    \"CWE-other\": CWE_other,\n",
    "    \"functionSource\": functionSource\n",
    "})"
   ]
  },
  {
   "cell_type": "code",
   "execution_count": 12,
   "metadata": {
    "scrolled": true
   },
   "outputs": [
    {
     "data": {
      "text/html": [
       "<div>\n",
       "<style scoped>\n",
       "    .dataframe tbody tr th:only-of-type {\n",
       "        vertical-align: middle;\n",
       "    }\n",
       "\n",
       "    .dataframe tbody tr th {\n",
       "        vertical-align: top;\n",
       "    }\n",
       "\n",
       "    .dataframe thead th {\n",
       "        text-align: right;\n",
       "    }\n",
       "</style>\n",
       "<table border=\"1\" class=\"dataframe\">\n",
       "  <thead>\n",
       "    <tr style=\"text-align: right;\">\n",
       "      <th></th>\n",
       "      <th>CWE-119</th>\n",
       "      <th>CWE-120</th>\n",
       "      <th>CWE-469</th>\n",
       "      <th>CWE-476</th>\n",
       "      <th>CWE-other</th>\n",
       "      <th>functionSource</th>\n",
       "    </tr>\n",
       "  </thead>\n",
       "  <tbody>\n",
       "    <tr>\n",
       "      <th>0</th>\n",
       "      <td>False</td>\n",
       "      <td>False</td>\n",
       "      <td>False</td>\n",
       "      <td>False</td>\n",
       "      <td>False</td>\n",
       "      <td>clear_area(int startx, int starty, int xsize, ...</td>\n",
       "    </tr>\n",
       "    <tr>\n",
       "      <th>1</th>\n",
       "      <td>False</td>\n",
       "      <td>False</td>\n",
       "      <td>False</td>\n",
       "      <td>False</td>\n",
       "      <td>False</td>\n",
       "      <td>ReconstructDuList(Statement* head)\\n{\\n    Sta...</td>\n",
       "    </tr>\n",
       "    <tr>\n",
       "      <th>2</th>\n",
       "      <td>False</td>\n",
       "      <td>False</td>\n",
       "      <td>False</td>\n",
       "      <td>False</td>\n",
       "      <td>False</td>\n",
       "      <td>free_speaker(void)\\n{\\n   if(Lengths)\\n       ...</td>\n",
       "    </tr>\n",
       "    <tr>\n",
       "      <th>3</th>\n",
       "      <td>False</td>\n",
       "      <td>False</td>\n",
       "      <td>False</td>\n",
       "      <td>False</td>\n",
       "      <td>False</td>\n",
       "      <td>mlx4_register_device(struct mlx4_dev *dev)\\n{\\...</td>\n",
       "    </tr>\n",
       "    <tr>\n",
       "      <th>4</th>\n",
       "      <td>True</td>\n",
       "      <td>True</td>\n",
       "      <td>False</td>\n",
       "      <td>False</td>\n",
       "      <td>True</td>\n",
       "      <td>Parse_Env_Var(void)\\n{\\n  char *p = getenv(\"LI...</td>\n",
       "    </tr>\n",
       "  </tbody>\n",
       "</table>\n",
       "</div>"
      ],
      "text/plain": [
       "   CWE-119  CWE-120  CWE-469  CWE-476  CWE-other  \\\n",
       "0    False    False    False    False      False   \n",
       "1    False    False    False    False      False   \n",
       "2    False    False    False    False      False   \n",
       "3    False    False    False    False      False   \n",
       "4     True     True    False    False       True   \n",
       "\n",
       "                                      functionSource  \n",
       "0  clear_area(int startx, int starty, int xsize, ...  \n",
       "1  ReconstructDuList(Statement* head)\\n{\\n    Sta...  \n",
       "2  free_speaker(void)\\n{\\n   if(Lengths)\\n       ...  \n",
       "3  mlx4_register_device(struct mlx4_dev *dev)\\n{\\...  \n",
       "4  Parse_Env_Var(void)\\n{\\n  char *p = getenv(\"LI...  "
      ]
     },
     "execution_count": 12,
     "metadata": {},
     "output_type": "execute_result"
    }
   ],
   "source": [
    "train_df.head()"
   ]
  },
  {
   "cell_type": "code",
   "execution_count": 13,
   "metadata": {},
   "outputs": [],
   "source": [
    "tot_vul = 0"
   ]
  },
  {
   "cell_type": "code",
   "execution_count": 14,
   "metadata": {},
   "outputs": [
    {
     "name": "stdout",
     "output_type": "stream",
     "text": [
      "CPU times: user 5min 6s, sys: 15 ms, total: 5min 6s\n",
      "Wall time: 5min 6s\n"
     ]
    }
   ],
   "source": [
    "%%time\n",
    "for i in range(len(CWE_119)):\n",
    "    if True in {CWE_119[i], CWE_120[i], CWE_469[i], CWE_476[i], CWE_other[i]}:\n",
    "        tot_vul += 1"
   ]
  },
  {
   "cell_type": "code",
   "execution_count": 15,
   "metadata": {},
   "outputs": [
    {
     "name": "stdout",
     "output_type": "stream",
     "text": [
      "Total vulnerable functions in the dataset: 65904\n"
     ]
    }
   ],
   "source": [
    "print(\"Total vulnerable functions in the dataset:\", tot_vul)"
   ]
  },
  {
   "cell_type": "code",
   "execution_count": 16,
   "metadata": {
    "scrolled": false
   },
   "outputs": [
    {
     "name": "stdout",
     "output_type": "stream",
     "text": [
      "CPU times: user 50.8 ms, sys: 3.99 ms, total: 54.8 ms\n",
      "Wall time: 54.2 ms\n"
     ]
    }
   ],
   "source": [
    "%%time\n",
    "vuln_df = (train_df[[ 'CWE-119', 'CWE-120', 'CWE-469', 'CWE-476', 'CWE-other']] == True).any(axis=1)"
   ]
  },
  {
   "cell_type": "code",
   "execution_count": 17,
   "metadata": {},
   "outputs": [
    {
     "data": {
      "text/plain": [
       "False    953567\n",
       "True      65904\n",
       "dtype: int64"
      ]
     },
     "execution_count": 17,
     "metadata": {},
     "output_type": "execute_result"
    }
   ],
   "source": [
    "vuln_df.value_counts()"
   ]
  },
  {
   "cell_type": "code",
   "execution_count": 20,
   "metadata": {},
   "outputs": [
    {
     "data": {
      "text/plain": [
       "count     1019471\n",
       "unique          2\n",
       "top         False\n",
       "freq       953567\n",
       "dtype: object"
      ]
     },
     "execution_count": 20,
     "metadata": {},
     "output_type": "execute_result"
    }
   ],
   "source": [
    "vuln_df.describe(include='all')"
   ]
  },
  {
   "cell_type": "markdown",
   "metadata": {},
   "source": [
    "The dataset contains $1019471$ functions, $953567$ ($93.54\\%$) non-vulnerable and $65904$ ($6.46\\%$) vulnerable."
   ]
  },
  {
   "cell_type": "markdown",
   "metadata": {},
   "source": [
    "## Source\n",
    "\n",
    "The functionSource dataset will contain the actual function bodies."
   ]
  },
  {
   "cell_type": "code",
   "execution_count": 21,
   "metadata": {
    "scrolled": false
   },
   "outputs": [
    {
     "name": "stdout",
     "output_type": "stream",
     "text": [
      "--------------------------------------------------------------------------------\n",
      "clear_area(int startx, int starty, int xsize, int ysize)\n",
      "{\n",
      "  int x;\n",
      "\n",
      "  TRACE_LOG(\"Clearing area %d,%d / %d,%d\\n\", startx, starty, xsize, ysize);\n",
      "\n",
      "  while (ysize > 0)\n",
      "  {\n",
      "    x = xsize;\n",
      "    while (x > 0)\n",
      "    {\n",
      "      mvaddch(starty + ysize - 2, startx + x - 2, ' ');\n",
      "      x--;\n",
      "    }\n",
      "    ysize--;\n",
      "  }\n",
      "}\n",
      "--------------------------------------------------------------------------------\n",
      "ReconstructDuList(Statement* head)\n",
      "{\n",
      "    Statement* spt;\n",
      "\n",
      "    for (spt = head; spt != NULL; spt = spt->next) {\n",
      "\tdelete_def_use_list(spt->use_var_list);\n",
      "\tdelete_def_use_list(spt->def_var_list);\n",
      "\tdelete_def_use_list(spt->use_array_list);\n",
      "\tdelete_def_use_list(spt->def_array_list);\n",
      "\tspt->def_var_list = NULL;\n",
      "\tspt->use_var_list = NULL;\n",
      "\tspt->def_array_list = NULL;\n",
      "\tspt->use_array_list = NULL;\n",
      "    }\n",
      "    def_use_statement(head);\n",
      "}\n",
      "--------------------------------------------------------------------------------\n",
      "free_speaker(void)\n",
      "{\n",
      "   if(Lengths)\n",
      "       free(Lengths);\n",
      "\n",
      "   if(!audio2fast && commento)\n",
      "       fclose(commento);\n",
      "\n",
      "\n",
      "   frase = NON_DECISA;\n",
      "   game_status = S_NON_INIZIATO;\n",
      "\n",
      "   fondolen = sound[FONDO]->Length;\n",
      "   fondobase = sound[FONDO]->SoundData;\n",
      "\n",
      "   if (audio2fast && comment_file) \n",
      "       free(comment_file);\n",
      "   \n",
      "   Lengths = NULL;\n",
      "   commento = NULL;\n",
      "   comment_file = NULL;\n",
      "}\n"
     ]
    }
   ],
   "source": [
    "for elem in functionSource[:3]: print(\"{}\\n{}\".format(\"-\"*80, elem))"
   ]
  },
  {
   "cell_type": "code",
   "execution_count": null,
   "metadata": {},
   "outputs": [],
   "source": []
  }
 ],
 "metadata": {
  "kernelspec": {
   "display_name": "Python 3",
   "language": "python",
   "name": "python3"
  },
  "language_info": {
   "codemirror_mode": {
    "name": "ipython",
    "version": 3
   },
   "file_extension": ".py",
   "mimetype": "text/x-python",
   "name": "python",
   "nbconvert_exporter": "python",
   "pygments_lexer": "ipython3",
   "version": "3.6.6"
  }
 },
 "nbformat": 4,
 "nbformat_minor": 2
}
