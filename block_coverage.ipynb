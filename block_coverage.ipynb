{
 "cells": [
  {
   "cell_type": "code",
   "execution_count": 40,
   "metadata": {},
   "outputs": [],
   "source": [
    "from collections import defaultdict, Counter\n",
    "\n",
    "import graphviz\n",
    "import yaml\n",
    "import json\n",
    "import os"
   ]
  },
  {
   "cell_type": "code",
   "execution_count": 38,
   "metadata": {},
   "outputs": [],
   "source": [
    "coverage_path = 'data/coverage_14.yaml'\n",
    "func_graph_path = 'data/main.dot'\n",
    "mapping_path = 'data/mapping.json'"
   ]
  },
  {
   "cell_type": "code",
   "execution_count": 3,
   "metadata": {},
   "outputs": [],
   "source": [
    "mapping = json.load(open(mapping_path, 'r'))"
   ]
  },
  {
   "cell_type": "code",
   "execution_count": 4,
   "metadata": {},
   "outputs": [],
   "source": [
    "coverage = yaml.load(open(coverage_path, 'r'))"
   ]
  },
  {
   "cell_type": "code",
   "execution_count": 11,
   "metadata": {
    "scrolled": true
   },
   "outputs": [
    {
     "name": "stdout",
     "output_type": "stream",
     "text": [
      "[14, 17, 27, 46, 89, 112, 139, 154]\n"
     ]
    }
   ],
   "source": [
    "groups = list(coverage.keys())\n",
    "print(groups)"
   ]
  },
  {
   "cell_type": "code",
   "execution_count": 21,
   "metadata": {},
   "outputs": [],
   "source": [
    "covered_set = set()"
   ]
  },
  {
   "cell_type": "code",
   "execution_count": 24,
   "metadata": {},
   "outputs": [],
   "source": [
    "for group, runs in coverage.items():\n",
    "    for run, blocks in runs.items():\n",
    "        covered_set |= set(blocks)"
   ]
  },
  {
   "cell_type": "code",
   "execution_count": 25,
   "metadata": {},
   "outputs": [
    {
     "name": "stdout",
     "output_type": "stream",
     "text": [
      "4056\n"
     ]
    }
   ],
   "source": [
    "print(len(covered_set))"
   ]
  },
  {
   "cell_type": "code",
   "execution_count": 27,
   "metadata": {},
   "outputs": [],
   "source": [
    "overlaps = Counter()"
   ]
  },
  {
   "cell_type": "code",
   "execution_count": 33,
   "metadata": {},
   "outputs": [],
   "source": [
    "for function, blocklist in mapping.items():\n",
    "    overlaps[function] = len(covered_set & set([int(b, 16) for b in blocklist]))"
   ]
  },
  {
   "cell_type": "code",
   "execution_count": 39,
   "metadata": {
    "scrolled": false
   },
   "outputs": [
    {
     "data": {
      "text/plain": [
       "[('start_pass', 158),\n",
       " ('_unknown', 124),\n",
       " ('decode_mcu', 115),\n",
       " ('decode_mcu_AC_refine', 94),\n",
       " ('decompress_smooth_data', 94),\n",
       " ('jpeg_make_d_derived_tbl', 92),\n",
       " ('get_dht', 85),\n",
       " ('get_sof', 78),\n",
       " ('get_sos', 76),\n",
       " ('start_pass_huff_decoder', 71)]"
      ]
     },
     "execution_count": 39,
     "metadata": {},
     "output_type": "execute_result"
    }
   ],
   "source": [
    "overlaps.most_common(10)"
   ]
  },
  {
   "cell_type": "code",
   "execution_count": 35,
   "metadata": {},
   "outputs": [
    {
     "data": {
      "text/plain": [
       "3039"
      ]
     },
     "execution_count": 35,
     "metadata": {},
     "output_type": "execute_result"
    }
   ],
   "source": [
    "sum(overlaps.values())"
   ]
  },
  {
   "cell_type": "code",
   "execution_count": 44,
   "metadata": {},
   "outputs": [],
   "source": [
    "address_label = {}"
   ]
  },
  {
   "cell_type": "code",
   "execution_count": 49,
   "metadata": {},
   "outputs": [],
   "source": [
    "with open(func_graph_path, 'r') as in_file:\n",
    "    with open('res/main_compressed.dot', 'w') as out_file:\n",
    "        \n",
    "        for line in in_file.readlines():\n",
    "            \n",
    "            if 'label=' in line:\n",
    "                address = line.split()[0]\n",
    "                content = line.split('label=')[1].split(']')[0]\n",
    "                address_label[address] = content\n",
    "                new_line = line.split('label=')[0] + 'label=' + address + ']' + os.linesep\n",
    "                out_file.write(new_line)\n",
    "            \n",
    "            else:\n",
    "                out_file.write(line)"
   ]
  },
  {
   "cell_type": "code",
   "execution_count": null,
   "metadata": {},
   "outputs": [],
   "source": [
    "json.dump(open('res/main_la'))"
   ]
  }
 ],
 "metadata": {
  "kernelspec": {
   "display_name": "Python 3",
   "language": "python",
   "name": "python3"
  },
  "language_info": {
   "codemirror_mode": {
    "name": "ipython",
    "version": 3
   },
   "file_extension": ".py",
   "mimetype": "text/x-python",
   "name": "python",
   "nbconvert_exporter": "python",
   "pygments_lexer": "ipython3",
   "version": "3.6.7"
  }
 },
 "nbformat": 4,
 "nbformat_minor": 2
}
