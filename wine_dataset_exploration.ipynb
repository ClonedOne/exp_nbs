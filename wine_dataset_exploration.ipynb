{
 "cells": [
  {
   "cell_type": "markdown",
   "metadata": {},
   "source": [
    "# Wine Reviews dataset\n",
    "\n",
    "Let's explore the wine review dataset from [Kaggle](https://www.kaggle.com/zynicide/wine-reviews)\n",
    "\n",
    "We'll start by importing the data in pandas and take a look at the headers. We start by dropping the first column which is just a redundant numerical index."
   ]
  },
  {
   "cell_type": "code",
   "execution_count": 1,
   "metadata": {},
   "outputs": [],
   "source": [
    "from collections import Counter, defaultdict\n",
    "\n",
    "import pandas as pd\n",
    "import numpy as np\n",
    "\n",
    "import json\n",
    "import csv"
   ]
  },
  {
   "cell_type": "code",
   "execution_count": 2,
   "metadata": {},
   "outputs": [],
   "source": [
    "data_path = \"data/winemag-data-130k-v2.csv\""
   ]
  },
  {
   "cell_type": "code",
   "execution_count": 3,
   "metadata": {},
   "outputs": [],
   "source": [
    "df = (pd.read_csv(data_path)).drop(['Unnamed: 0'], axis=1)"
   ]
  },
  {
   "cell_type": "code",
   "execution_count": 4,
   "metadata": {},
   "outputs": [],
   "source": [
    "df = df.dropna(subset=['country', 'points', 'price'])"
   ]
  },
  {
   "cell_type": "code",
   "execution_count": 5,
   "metadata": {
    "scrolled": false
   },
   "outputs": [
    {
     "data": {
      "text/html": [
       "<div>\n",
       "<style scoped>\n",
       "    .dataframe tbody tr th:only-of-type {\n",
       "        vertical-align: middle;\n",
       "    }\n",
       "\n",
       "    .dataframe tbody tr th {\n",
       "        vertical-align: top;\n",
       "    }\n",
       "\n",
       "    .dataframe thead th {\n",
       "        text-align: right;\n",
       "    }\n",
       "</style>\n",
       "<table border=\"1\" class=\"dataframe\">\n",
       "  <thead>\n",
       "    <tr style=\"text-align: right;\">\n",
       "      <th></th>\n",
       "      <th>country</th>\n",
       "      <th>description</th>\n",
       "      <th>designation</th>\n",
       "      <th>points</th>\n",
       "      <th>price</th>\n",
       "      <th>province</th>\n",
       "      <th>region_1</th>\n",
       "      <th>region_2</th>\n",
       "      <th>taster_name</th>\n",
       "      <th>taster_twitter_handle</th>\n",
       "      <th>title</th>\n",
       "      <th>variety</th>\n",
       "      <th>winery</th>\n",
       "    </tr>\n",
       "  </thead>\n",
       "  <tbody>\n",
       "    <tr>\n",
       "      <th>1</th>\n",
       "      <td>Portugal</td>\n",
       "      <td>This is ripe and fruity, a wine that is smooth...</td>\n",
       "      <td>Avidagos</td>\n",
       "      <td>87</td>\n",
       "      <td>15.0</td>\n",
       "      <td>Douro</td>\n",
       "      <td>NaN</td>\n",
       "      <td>NaN</td>\n",
       "      <td>Roger Voss</td>\n",
       "      <td>@vossroger</td>\n",
       "      <td>Quinta dos Avidagos 2011 Avidagos Red (Douro)</td>\n",
       "      <td>Portuguese Red</td>\n",
       "      <td>Quinta dos Avidagos</td>\n",
       "    </tr>\n",
       "    <tr>\n",
       "      <th>2</th>\n",
       "      <td>US</td>\n",
       "      <td>Tart and snappy, the flavors of lime flesh and...</td>\n",
       "      <td>NaN</td>\n",
       "      <td>87</td>\n",
       "      <td>14.0</td>\n",
       "      <td>Oregon</td>\n",
       "      <td>Willamette Valley</td>\n",
       "      <td>Willamette Valley</td>\n",
       "      <td>Paul Gregutt</td>\n",
       "      <td>@paulgwine</td>\n",
       "      <td>Rainstorm 2013 Pinot Gris (Willamette Valley)</td>\n",
       "      <td>Pinot Gris</td>\n",
       "      <td>Rainstorm</td>\n",
       "    </tr>\n",
       "    <tr>\n",
       "      <th>3</th>\n",
       "      <td>US</td>\n",
       "      <td>Pineapple rind, lemon pith and orange blossom ...</td>\n",
       "      <td>Reserve Late Harvest</td>\n",
       "      <td>87</td>\n",
       "      <td>13.0</td>\n",
       "      <td>Michigan</td>\n",
       "      <td>Lake Michigan Shore</td>\n",
       "      <td>NaN</td>\n",
       "      <td>Alexander Peartree</td>\n",
       "      <td>NaN</td>\n",
       "      <td>St. Julian 2013 Reserve Late Harvest Riesling ...</td>\n",
       "      <td>Riesling</td>\n",
       "      <td>St. Julian</td>\n",
       "    </tr>\n",
       "    <tr>\n",
       "      <th>4</th>\n",
       "      <td>US</td>\n",
       "      <td>Much like the regular bottling from 2012, this...</td>\n",
       "      <td>Vintner's Reserve Wild Child Block</td>\n",
       "      <td>87</td>\n",
       "      <td>65.0</td>\n",
       "      <td>Oregon</td>\n",
       "      <td>Willamette Valley</td>\n",
       "      <td>Willamette Valley</td>\n",
       "      <td>Paul Gregutt</td>\n",
       "      <td>@paulgwine</td>\n",
       "      <td>Sweet Cheeks 2012 Vintner's Reserve Wild Child...</td>\n",
       "      <td>Pinot Noir</td>\n",
       "      <td>Sweet Cheeks</td>\n",
       "    </tr>\n",
       "    <tr>\n",
       "      <th>5</th>\n",
       "      <td>Spain</td>\n",
       "      <td>Blackberry and raspberry aromas show a typical...</td>\n",
       "      <td>Ars In Vitro</td>\n",
       "      <td>87</td>\n",
       "      <td>15.0</td>\n",
       "      <td>Northern Spain</td>\n",
       "      <td>Navarra</td>\n",
       "      <td>NaN</td>\n",
       "      <td>Michael Schachner</td>\n",
       "      <td>@wineschach</td>\n",
       "      <td>Tandem 2011 Ars In Vitro Tempranillo-Merlot (N...</td>\n",
       "      <td>Tempranillo-Merlot</td>\n",
       "      <td>Tandem</td>\n",
       "    </tr>\n",
       "  </tbody>\n",
       "</table>\n",
       "</div>"
      ],
      "text/plain": [
       "    country                                        description  \\\n",
       "1  Portugal  This is ripe and fruity, a wine that is smooth...   \n",
       "2        US  Tart and snappy, the flavors of lime flesh and...   \n",
       "3        US  Pineapple rind, lemon pith and orange blossom ...   \n",
       "4        US  Much like the regular bottling from 2012, this...   \n",
       "5     Spain  Blackberry and raspberry aromas show a typical...   \n",
       "\n",
       "                          designation  points  price        province  \\\n",
       "1                            Avidagos      87   15.0           Douro   \n",
       "2                                 NaN      87   14.0          Oregon   \n",
       "3                Reserve Late Harvest      87   13.0        Michigan   \n",
       "4  Vintner's Reserve Wild Child Block      87   65.0          Oregon   \n",
       "5                        Ars In Vitro      87   15.0  Northern Spain   \n",
       "\n",
       "              region_1           region_2         taster_name  \\\n",
       "1                  NaN                NaN          Roger Voss   \n",
       "2    Willamette Valley  Willamette Valley        Paul Gregutt   \n",
       "3  Lake Michigan Shore                NaN  Alexander Peartree   \n",
       "4    Willamette Valley  Willamette Valley        Paul Gregutt   \n",
       "5              Navarra                NaN   Michael Schachner   \n",
       "\n",
       "  taster_twitter_handle                                              title  \\\n",
       "1            @vossroger      Quinta dos Avidagos 2011 Avidagos Red (Douro)   \n",
       "2           @paulgwine       Rainstorm 2013 Pinot Gris (Willamette Valley)   \n",
       "3                   NaN  St. Julian 2013 Reserve Late Harvest Riesling ...   \n",
       "4           @paulgwine   Sweet Cheeks 2012 Vintner's Reserve Wild Child...   \n",
       "5           @wineschach  Tandem 2011 Ars In Vitro Tempranillo-Merlot (N...   \n",
       "\n",
       "              variety               winery  \n",
       "1      Portuguese Red  Quinta dos Avidagos  \n",
       "2          Pinot Gris            Rainstorm  \n",
       "3            Riesling           St. Julian  \n",
       "4          Pinot Noir         Sweet Cheeks  \n",
       "5  Tempranillo-Merlot               Tandem  "
      ]
     },
     "execution_count": 5,
     "metadata": {},
     "output_type": "execute_result"
    }
   ],
   "source": [
    "df[:5]"
   ]
  },
  {
   "cell_type": "markdown",
   "metadata": {},
   "source": [
    "We would like to visualize for each country the average score of the wines reviewed in this datased.\n",
    "Therefore let's create a smaller dataframe with only the needed information.\n",
    "\n",
    "Given the dataset format, all the wine scores will be between 80 and 100. The prices are much more different."
   ]
  },
  {
   "cell_type": "code",
   "execution_count": 6,
   "metadata": {
    "scrolled": false
   },
   "outputs": [
    {
     "data": {
      "text/html": [
       "<div>\n",
       "<style scoped>\n",
       "    .dataframe tbody tr th:only-of-type {\n",
       "        vertical-align: middle;\n",
       "    }\n",
       "\n",
       "    .dataframe tbody tr th {\n",
       "        vertical-align: top;\n",
       "    }\n",
       "\n",
       "    .dataframe thead th {\n",
       "        text-align: right;\n",
       "    }\n",
       "</style>\n",
       "<table border=\"1\" class=\"dataframe\">\n",
       "  <thead>\n",
       "    <tr style=\"text-align: right;\">\n",
       "      <th></th>\n",
       "      <th>points</th>\n",
       "      <th>price</th>\n",
       "    </tr>\n",
       "  </thead>\n",
       "  <tbody>\n",
       "    <tr>\n",
       "      <th>count</th>\n",
       "      <td>120916.000000</td>\n",
       "      <td>120916.000000</td>\n",
       "    </tr>\n",
       "    <tr>\n",
       "      <th>mean</th>\n",
       "      <td>88.421723</td>\n",
       "      <td>35.368644</td>\n",
       "    </tr>\n",
       "    <tr>\n",
       "      <th>std</th>\n",
       "      <td>3.044942</td>\n",
       "      <td>41.031052</td>\n",
       "    </tr>\n",
       "    <tr>\n",
       "      <th>min</th>\n",
       "      <td>80.000000</td>\n",
       "      <td>4.000000</td>\n",
       "    </tr>\n",
       "    <tr>\n",
       "      <th>25%</th>\n",
       "      <td>86.000000</td>\n",
       "      <td>17.000000</td>\n",
       "    </tr>\n",
       "    <tr>\n",
       "      <th>50%</th>\n",
       "      <td>88.000000</td>\n",
       "      <td>25.000000</td>\n",
       "    </tr>\n",
       "    <tr>\n",
       "      <th>75%</th>\n",
       "      <td>91.000000</td>\n",
       "      <td>42.000000</td>\n",
       "    </tr>\n",
       "    <tr>\n",
       "      <th>max</th>\n",
       "      <td>100.000000</td>\n",
       "      <td>3300.000000</td>\n",
       "    </tr>\n",
       "  </tbody>\n",
       "</table>\n",
       "</div>"
      ],
      "text/plain": [
       "              points          price\n",
       "count  120916.000000  120916.000000\n",
       "mean       88.421723      35.368644\n",
       "std         3.044942      41.031052\n",
       "min        80.000000       4.000000\n",
       "25%        86.000000      17.000000\n",
       "50%        88.000000      25.000000\n",
       "75%        91.000000      42.000000\n",
       "max       100.000000    3300.000000"
      ]
     },
     "execution_count": 6,
     "metadata": {},
     "output_type": "execute_result"
    }
   ],
   "source": [
    "df.describe()"
   ]
  },
  {
   "cell_type": "code",
   "execution_count": 7,
   "metadata": {},
   "outputs": [],
   "source": [
    "country_point = defaultdict(int)\n",
    "country_price = defaultdict(float)\n",
    "country_count = Counter()"
   ]
  },
  {
   "cell_type": "code",
   "execution_count": 8,
   "metadata": {},
   "outputs": [],
   "source": [
    "for ind, row in df.iterrows():\n",
    "    country_point[row['country']] += row['points']\n",
    "    country_price[row['country']] += row['price']\n",
    "    country_count[row['country']] += 1"
   ]
  },
  {
   "cell_type": "code",
   "execution_count": 9,
   "metadata": {},
   "outputs": [],
   "source": [
    "for c, s in country_point.items():\n",
    "    country_point[c] = s / country_count[c]\n",
    "for c, s in country_price.items():\n",
    "    country_price[c] = s / country_count[c]"
   ]
  },
  {
   "cell_type": "code",
   "execution_count": 10,
   "metadata": {
    "scrolled": true
   },
   "outputs": [
    {
     "data": {
      "text/plain": [
       "defaultdict(int,\n",
       "            {'Portugal': 88.31671794871795,\n",
       "             'US': 88.56638717405326,\n",
       "             'Spain': 87.29073482428115,\n",
       "             'Italy': 88.61818611800875,\n",
       "             'France': 88.73486723672367,\n",
       "             'Germany': 89.83632075471698,\n",
       "             'Argentina': 86.71033013844516,\n",
       "             'Chile': 86.49547101449275,\n",
       "             'Australia': 88.59546643417612,\n",
       "             'Austria': 90.19078242229368,\n",
       "             'South Africa': 87.83139984532096,\n",
       "             'New Zealand': 88.30841799709724,\n",
       "             'Israel': 88.49693251533742,\n",
       "             'Hungary': 89.1655172413793,\n",
       "             'Greece': 87.2885032537961,\n",
       "             'Romania': 86.4,\n",
       "             'Mexico': 85.25714285714285,\n",
       "             'Canada': 89.37795275590551,\n",
       "             'Turkey': 88.08888888888889,\n",
       "             'Czech Republic': 87.25,\n",
       "             'Slovenia': 88.0125,\n",
       "             'Luxembourg': 88.66666666666667,\n",
       "             'Croatia': 87.35211267605634,\n",
       "             'Georgia': 87.67857142857143,\n",
       "             'Uruguay': 86.75229357798165,\n",
       "             'England': 91.55072463768116,\n",
       "             'Lebanon': 87.68571428571428,\n",
       "             'Serbia': 87.5,\n",
       "             'Brazil': 84.65957446808511,\n",
       "             'Moldova': 87.20338983050847,\n",
       "             'Morocco': 88.57142857142857,\n",
       "             'Peru': 83.5625,\n",
       "             'India': 90.22222222222223,\n",
       "             'Bulgaria': 87.93617021276596,\n",
       "             'Cyprus': 87.18181818181819,\n",
       "             'Armenia': 87.5,\n",
       "             'Switzerland': 88.57142857142857,\n",
       "             'Bosnia and Herzegovina': 86.5,\n",
       "             'Ukraine': 84.07142857142857,\n",
       "             'Slovakia': 87.0,\n",
       "             'Macedonia': 86.83333333333333,\n",
       "             'China': 89.0})"
      ]
     },
     "execution_count": 10,
     "metadata": {},
     "output_type": "execute_result"
    }
   ],
   "source": [
    "country_point"
   ]
  },
  {
   "cell_type": "code",
   "execution_count": 11,
   "metadata": {
    "scrolled": true
   },
   "outputs": [
    {
     "data": {
      "text/plain": [
       "Counter({'Portugal': 4875,\n",
       "         'US': 54265,\n",
       "         'Spain': 6573,\n",
       "         'Italy': 16914,\n",
       "         'France': 17776,\n",
       "         'Germany': 2120,\n",
       "         'Argentina': 3756,\n",
       "         'Chile': 4416,\n",
       "         'Australia': 2294,\n",
       "         'Austria': 2799,\n",
       "         'South Africa': 1293,\n",
       "         'New Zealand': 1378,\n",
       "         'Israel': 489,\n",
       "         'Hungary': 145,\n",
       "         'Greece': 461,\n",
       "         'Romania': 120,\n",
       "         'Mexico': 70,\n",
       "         'Canada': 254,\n",
       "         'Turkey': 90,\n",
       "         'Czech Republic': 12,\n",
       "         'Slovenia': 80,\n",
       "         'Luxembourg': 6,\n",
       "         'Croatia': 71,\n",
       "         'Georgia': 84,\n",
       "         'Uruguay': 109,\n",
       "         'England': 69,\n",
       "         'Lebanon': 35,\n",
       "         'Serbia': 12,\n",
       "         'Brazil': 47,\n",
       "         'Moldova': 59,\n",
       "         'Morocco': 28,\n",
       "         'Peru': 16,\n",
       "         'India': 9,\n",
       "         'Bulgaria': 141,\n",
       "         'Cyprus': 11,\n",
       "         'Armenia': 2,\n",
       "         'Switzerland': 7,\n",
       "         'Bosnia and Herzegovina': 2,\n",
       "         'Ukraine': 14,\n",
       "         'Slovakia': 1,\n",
       "         'Macedonia': 12,\n",
       "         'China': 1})"
      ]
     },
     "execution_count": 11,
     "metadata": {},
     "output_type": "execute_result"
    }
   ],
   "source": [
    "country_count"
   ]
  },
  {
   "cell_type": "code",
   "execution_count": 12,
   "metadata": {
    "scrolled": true
   },
   "outputs": [
    {
     "data": {
      "text/plain": [
       "defaultdict(float,\n",
       "            {'Portugal': 26.21825641025641,\n",
       "             'US': 36.5734635584631,\n",
       "             'Spain': 28.215274608245853,\n",
       "             'Italy': 39.663769658271256,\n",
       "             'France': 41.139120162016205,\n",
       "             'Germany': 42.25754716981132,\n",
       "             'Argentina': 24.510117145899894,\n",
       "             'Chile': 20.786458333333332,\n",
       "             'Australia': 35.43766346992153,\n",
       "             'Austria': 30.76277241872097,\n",
       "             'South Africa': 24.668986852281517,\n",
       "             'New Zealand': 26.93178519593614,\n",
       "             'Israel': 31.768916155419223,\n",
       "             'Hungary': 40.648275862068964,\n",
       "             'Greece': 22.364425162689805,\n",
       "             'Romania': 15.241666666666667,\n",
       "             'Mexico': 26.785714285714285,\n",
       "             'Canada': 35.71259842519685,\n",
       "             'Turkey': 24.633333333333333,\n",
       "             'Czech Republic': 24.25,\n",
       "             'Slovenia': 24.8125,\n",
       "             'Luxembourg': 23.333333333333332,\n",
       "             'Croatia': 25.450704225352112,\n",
       "             'Georgia': 19.321428571428573,\n",
       "             'Uruguay': 26.40366972477064,\n",
       "             'England': 51.68115942028985,\n",
       "             'Lebanon': 30.685714285714287,\n",
       "             'Serbia': 24.5,\n",
       "             'Brazil': 23.76595744680851,\n",
       "             'Moldova': 16.74576271186441,\n",
       "             'Morocco': 19.5,\n",
       "             'Peru': 18.0625,\n",
       "             'India': 13.333333333333334,\n",
       "             'Bulgaria': 14.645390070921986,\n",
       "             'Cyprus': 16.272727272727273,\n",
       "             'Armenia': 14.5,\n",
       "             'Switzerland': 85.28571428571429,\n",
       "             'Bosnia and Herzegovina': 12.5,\n",
       "             'Ukraine': 9.214285714285714,\n",
       "             'Slovakia': 16.0,\n",
       "             'Macedonia': 15.583333333333334,\n",
       "             'China': 18.0})"
      ]
     },
     "execution_count": 12,
     "metadata": {},
     "output_type": "execute_result"
    }
   ],
   "source": [
    "country_price"
   ]
  },
  {
   "cell_type": "markdown",
   "metadata": {},
   "source": [
    "We will also need some geographic data to find the positions of the countries on the world map"
   ]
  },
  {
   "cell_type": "code",
   "execution_count": 13,
   "metadata": {},
   "outputs": [],
   "source": [
    "world_data = json.load(open('data/world-110m.geojson', 'r'))"
   ]
  },
  {
   "cell_type": "code",
   "execution_count": 14,
   "metadata": {
    "scrolled": false
   },
   "outputs": [],
   "source": [
    "country_name_code = {}"
   ]
  },
  {
   "cell_type": "code",
   "execution_count": 15,
   "metadata": {},
   "outputs": [],
   "source": [
    "for elem in world_data['features']:\n",
    "    country_name_code[elem['properties']['name']] =  elem['id']\n",
    "    "
   ]
  },
  {
   "cell_type": "code",
   "execution_count": 16,
   "metadata": {},
   "outputs": [],
   "source": [
    "country_code = {}"
   ]
  },
  {
   "cell_type": "code",
   "execution_count": 17,
   "metadata": {},
   "outputs": [],
   "source": [
    "for c in country_count:\n",
    "    country_code[c] = country_name_code.get(c, None)"
   ]
  },
  {
   "cell_type": "markdown",
   "metadata": {},
   "source": [
    "Now we will have to do some manual processing to assign the country code to those countries that were mismatched in the json file"
   ]
  },
  {
   "cell_type": "code",
   "execution_count": 18,
   "metadata": {},
   "outputs": [
    {
     "name": "stdout",
     "output_type": "stream",
     "text": [
      "US\n",
      "Serbia\n"
     ]
    }
   ],
   "source": [
    "for c, i in country_code.items():\n",
    "    if i == None:\n",
    "        print(c)"
   ]
  },
  {
   "cell_type": "code",
   "execution_count": 19,
   "metadata": {},
   "outputs": [],
   "source": [
    "country_code['US'] = 'USA'\n",
    "country_code['Serbia'] = 'SRB'"
   ]
  },
  {
   "cell_type": "markdown",
   "metadata": {},
   "source": [
    "Now that we have the data we can create an aggregated csv file"
   ]
  },
  {
   "cell_type": "code",
   "execution_count": 20,
   "metadata": {},
   "outputs": [],
   "source": [
    "with open('res/country_wine_data.csv', mode='w') as cwd_file:\n",
    "    cwd_writer = csv.writer(cwd_file, delimiter=',', quotechar='\"', quoting=csv.QUOTE_MINIMAL)\n",
    "    cwd_writer.writerow(['country', 'count', 'points', 'price', 'code'])\n",
    "    for c in country_count:\n",
    "        cwd_writer.writerow([c, country_count[c] , country_point[c], country_price[c], country_code[c]])"
   ]
  },
  {
   "cell_type": "markdown",
   "metadata": {},
   "source": [
    "Let's also create a little helper data structure"
   ]
  },
  {
   "cell_type": "code",
   "execution_count": 21,
   "metadata": {},
   "outputs": [],
   "source": [
    "code_country = {}\n",
    "for country, code in country_code.items():\n",
    "    code_country[code] = country"
   ]
  },
  {
   "cell_type": "code",
   "execution_count": 22,
   "metadata": {},
   "outputs": [],
   "source": [
    "json.dump(code_country, open('res/code_country.json', 'w', encoding='utf-8', errors='ignore'), indent=2)"
   ]
  },
  {
   "cell_type": "markdown",
   "metadata": {},
   "source": [
    "Now that we have the preprocessed data for a map visualization, it would also be interesting to get a sense of the distribution of wine varieties per country.\n",
    "\n",
    "Let's first count the number of different varieties to see if such a visualization would be feasible."
   ]
  },
  {
   "cell_type": "code",
   "execution_count": 23,
   "metadata": {},
   "outputs": [],
   "source": [
    "varieties = Counter()\n",
    "\n",
    "for ind, row in df.iterrows():\n",
    "    varieties[row['variety']] += 1"
   ]
  },
  {
   "cell_type": "code",
   "execution_count": 25,
   "metadata": {
    "scrolled": false
   },
   "outputs": [
    {
     "name": "stdout",
     "output_type": "stream",
     "text": [
      "[('Pinot Noir', 12785), ('Chardonnay', 11077), ('Cabernet Sauvignon', 9384), ('Red Blend', 8466), ('Bordeaux-style Red Blend', 5340), ('Riesling', 4971), ('Sauvignon Blanc', 4780), ('Syrah', 4086), ('Rosé', 3261), ('Merlot', 3061)]\n",
      "692\n"
     ]
    }
   ],
   "source": [
    "print(varieties.most_common(10))\n",
    "print(len(varieties))"
   ]
  },
  {
   "cell_type": "markdown",
   "metadata": {},
   "source": [
    "Another interesting feature of this data is the year in which each bottle was produced. Let's therefore try to extract this information.\n",
    "\n",
    "Extracting the year from the title is non trivial, due to the presence of other numbers in the text. Some cleaning operations are needed to reduce the amount of numbers in the titles.\n",
    "\n",
    "One useful feature about the title structure is that the name of the winery is always the prefix of the title."
   ]
  },
  {
   "cell_type": "code",
   "execution_count": 37,
   "metadata": {},
   "outputs": [],
   "source": [
    "years = Counter()"
   ]
  },
  {
   "cell_type": "code",
   "execution_count": 36,
   "metadata": {
    "scrolled": false
   },
   "outputs": [
    {
     "name": "stdout",
     "output_type": "stream",
     "text": [
      "2011 Avidagos Red (Douro) ----- Domaine Schoffit\n"
     ]
    }
   ],
   "source": [
    "for ind, row in df.iterrows():\n",
    "    title = row['title']\n",
    "    winery_len = len(row['winery'])\n",
    "    year = [int(y) for y in title[winery_len:].split() if y.isdigit()]\n",
    "    print(title[winery_len:].strip(), '-----', winery.strip())\n",
    "    break"
   ]
  },
  {
   "cell_type": "markdown",
   "metadata": {},
   "source": [
    "As it turns out, the standard formatting of the title is:\n",
    "`winery` `year` (or `NV` for nonvintage wines) `name`"
   ]
  },
  {
   "cell_type": "code",
   "execution_count": 38,
   "metadata": {},
   "outputs": [],
   "source": [
    "for ind, row in df.iterrows():\n",
    "    winery_len = len(row['winery'])\n",
    "    title = row['title'][winery_len:].strip().split()\n",
    "    if title[0].isdigit():\n",
    "        years[title[0]] += 1"
   ]
  },
  {
   "cell_type": "code",
   "execution_count": 39,
   "metadata": {},
   "outputs": [
    {
     "data": {
      "text/plain": [
       "[('2013', 15187),\n",
       " ('2014', 14876),\n",
       " ('2012', 14736),\n",
       " ('2011', 11436),\n",
       " ('2010', 11105),\n",
       " ('2015', 9621),\n",
       " ('2009', 9056),\n",
       " ('2008', 6725),\n",
       " ('2007', 6498),\n",
       " ('2006', 5170),\n",
       " ('2016', 3543),\n",
       " ('2005', 3293),\n",
       " ('2004', 1604),\n",
       " ('2000', 734),\n",
       " ('2001', 668),\n",
       " ('1999', 619),\n",
       " ('1998', 541),\n",
       " ('2003', 499),\n",
       " ('2002', 333),\n",
       " ('1997', 297),\n",
       " ('1996', 64),\n",
       " ('1995', 45),\n",
       " ('1994', 23),\n",
       " ('1992', 14),\n",
       " ('2017', 11),\n",
       " ('1989', 6),\n",
       " ('1990', 5),\n",
       " ('1988', 5),\n",
       " ('1991', 4),\n",
       " ('1985', 4),\n",
       " ('1986', 4),\n",
       " ('1993', 3),\n",
       " ('1963', 3),\n",
       " ('1964', 2),\n",
       " ('1983', 2),\n",
       " ('1980', 2),\n",
       " ('1987', 2),\n",
       " ('1978', 2),\n",
       " ('1984', 2),\n",
       " ('1952', 2),\n",
       " ('1976', 1),\n",
       " ('1967', 1),\n",
       " ('1969', 1),\n",
       " ('1935', 1),\n",
       " ('1973', 1),\n",
       " ('1965', 1),\n",
       " ('1968', 1),\n",
       " ('1947', 1),\n",
       " ('1982', 1),\n",
       " ('1957', 1),\n",
       " ('1966', 1),\n",
       " ('1961', 1),\n",
       " ('1941', 1),\n",
       " ('1974', 1),\n",
       " ('1934', 1),\n",
       " ('1945', 1)]"
      ]
     },
     "execution_count": 39,
     "metadata": {},
     "output_type": "execute_result"
    }
   ],
   "source": [
    "years.most_common()"
   ]
  },
  {
   "cell_type": "code",
   "execution_count": 40,
   "metadata": {},
   "outputs": [
    {
     "data": {
      "text/plain": [
       "116762"
      ]
     },
     "execution_count": 40,
     "metadata": {},
     "output_type": "execute_result"
    }
   ],
   "source": [
    "sum(years.values())"
   ]
  },
  {
   "cell_type": "markdown",
   "metadata": {},
   "source": [
    "It would also be interesting to know more about the relation between prices and final scores"
   ]
  },
  {
   "cell_type": "code",
   "execution_count": 41,
   "metadata": {},
   "outputs": [],
   "source": [
    "prices = Counter()\n",
    "\n",
    "for ind, row in df.iterrows():\n",
    "    prices[row['price']] += 1"
   ]
  },
  {
   "cell_type": "code",
   "execution_count": 43,
   "metadata": {},
   "outputs": [
    {
     "data": {
      "text/plain": [
       "[(20.0, 6938),\n",
       " (15.0, 6066),\n",
       " (25.0, 5796),\n",
       " (30.0, 4946),\n",
       " (18.0, 4881),\n",
       " (12.0, 3932),\n",
       " (40.0, 3871),\n",
       " (35.0, 3801),\n",
       " (13.0, 3548),\n",
       " (16.0, 3545)]"
      ]
     },
     "execution_count": 43,
     "metadata": {},
     "output_type": "execute_result"
    }
   ],
   "source": [
    "prices.most_common(10)"
   ]
  },
  {
   "cell_type": "code",
   "execution_count": 44,
   "metadata": {},
   "outputs": [],
   "source": [
    "score_price = Counter()\n",
    "score_count = Counter()"
   ]
  },
  {
   "cell_type": "code",
   "execution_count": 45,
   "metadata": {},
   "outputs": [],
   "source": [
    "for ind, row in df.iterrows():\n",
    "    score_price[row['points']] += row['price']\n",
    "    score_count[row['points']] += 1"
   ]
  },
  {
   "cell_type": "code",
   "execution_count": 48,
   "metadata": {},
   "outputs": [],
   "source": [
    "score_avgprice = {}\n",
    "\n",
    "for score, price in score_price.items():\n",
    "    score_avgprice[score] = price / score_count[score]"
   ]
  },
  {
   "cell_type": "code",
   "execution_count": 49,
   "metadata": {},
   "outputs": [
    {
     "data": {
      "text/plain": [
       "{87: 24.902734598058498,\n",
       " 86: 22.134156729131174,\n",
       " 85: 19.950455005055613,\n",
       " 88: 28.689472039987503,\n",
       " 92: 51.05042301184433,\n",
       " 91: 43.22776778103987,\n",
       " 90: 36.91221959035809,\n",
       " 89: 32.184857597735714,\n",
       " 83: 18.237352737352737,\n",
       " 82: 18.87076749435666,\n",
       " 81: 17.18235294117647,\n",
       " 80: 16.372151898734177,\n",
       " 100: 485.94736842105266,\n",
       " 98: 245.4927536231884,\n",
       " 97: 207.17391304347825,\n",
       " 96: 159.29253112033194,\n",
       " 95: 109.23541963015647,\n",
       " 93: 63.112215669755685,\n",
       " 94: 81.43693824296898,\n",
       " 84: 19.314580941446614,\n",
       " 99: 284.2142857142857}"
      ]
     },
     "execution_count": 49,
     "metadata": {},
     "output_type": "execute_result"
    }
   ],
   "source": [
    "score_avgprice"
   ]
  },
  {
   "cell_type": "code",
   "execution_count": null,
   "metadata": {},
   "outputs": [],
   "source": [
    "with open('res/country_wine_data.csv', mode='w') as cwd_file:\n",
    "    cwd_writer = csv.writer(cwd_file, delimiter=',', quotechar='\"', quoting=csv.QUOTE_MINIMAL)\n",
    "    cwd_writer.writerow(['score', 'price', 'count'])\n",
    "    \n",
    "    for i in range(80, 101):\n",
    "        cwd_writer.writerow([i, score_avgprice[i] , score_count[i]])\n",
    "    "
   ]
  }
 ],
 "metadata": {
  "kernelspec": {
   "display_name": "Python 3",
   "language": "python",
   "name": "python3"
  },
  "language_info": {
   "codemirror_mode": {
    "name": "ipython",
    "version": 3
   },
   "file_extension": ".py",
   "mimetype": "text/x-python",
   "name": "python",
   "nbconvert_exporter": "python",
   "pygments_lexer": "ipython3",
   "version": "3.7.2"
  }
 },
 "nbformat": 4,
 "nbformat_minor": 2
}
