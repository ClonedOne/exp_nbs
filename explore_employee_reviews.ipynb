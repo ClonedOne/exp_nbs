{
 "cells": [
  {
   "cell_type": "markdown",
   "metadata": {},
   "source": [
    "# Exploring employee reviews\n",
    "\n",
    "In this notebook I'll take a look at the dataset published [here](https://www.kaggle.com/petersunga/google-amazon-facebook-employee-reviews) on employee reviews for some of the biggest US tech companies."
   ]
  },
  {
   "cell_type": "code",
   "execution_count": 68,
   "metadata": {},
   "outputs": [],
   "source": [
    "from sklearn.metrics.pairwise import cosine_similarity\n",
    "from collections import Counter, defaultdict\n",
    "from sklearn.decomposition import PCA\n",
    "from sklearn.manifold import TSNE\n",
    "from nltk.corpus import stopwords\n",
    "from nltk import word_tokenize\n",
    "from datetime import datetime\n",
    "from textblob import TextBlob\n",
    "\n",
    "import matplotlib.pyplot as plt\n",
    "import matplotlib as mpl\n",
    "import pandas as pd\n",
    "import numpy as np\n",
    "\n",
    "import gensim\n",
    "import os"
   ]
  },
  {
   "cell_type": "markdown",
   "metadata": {},
   "source": [
    "## Data loading and cleanup"
   ]
  },
  {
   "cell_type": "code",
   "execution_count": 2,
   "metadata": {},
   "outputs": [],
   "source": [
    "data_path = 'data/employee_reviews.csv'"
   ]
  },
  {
   "cell_type": "code",
   "execution_count": 3,
   "metadata": {},
   "outputs": [],
   "source": [
    "df = pd.read_csv(data_path)"
   ]
  },
  {
   "cell_type": "markdown",
   "metadata": {},
   "source": [
    "I'll start by doing some standard cleaning up of the dataset"
   ]
  },
  {
   "cell_type": "code",
   "execution_count": 4,
   "metadata": {},
   "outputs": [],
   "source": [
    "df = df.drop(['Unnamed: 0', 'helpful-count', 'link'], axis=1)"
   ]
  },
  {
   "cell_type": "markdown",
   "metadata": {},
   "source": [
    "Also, by taking a look at the data it seems clear that the `summary` field does not convey any useful information so I'll just drop it."
   ]
  },
  {
   "cell_type": "code",
   "execution_count": 5,
   "metadata": {},
   "outputs": [],
   "source": [
    "df = df.drop(['summary'], axis=1)"
   ]
  },
  {
   "cell_type": "markdown",
   "metadata": {},
   "source": [
    "Here what the data looks like after the cleaning"
   ]
  },
  {
   "cell_type": "code",
   "execution_count": 6,
   "metadata": {},
   "outputs": [
    {
     "data": {
      "text/html": [
       "<div>\n",
       "<style scoped>\n",
       "    .dataframe tbody tr th:only-of-type {\n",
       "        vertical-align: middle;\n",
       "    }\n",
       "\n",
       "    .dataframe tbody tr th {\n",
       "        vertical-align: top;\n",
       "    }\n",
       "\n",
       "    .dataframe thead th {\n",
       "        text-align: right;\n",
       "    }\n",
       "</style>\n",
       "<table border=\"1\" class=\"dataframe\">\n",
       "  <thead>\n",
       "    <tr style=\"text-align: right;\">\n",
       "      <th></th>\n",
       "      <th>company</th>\n",
       "      <th>location</th>\n",
       "      <th>dates</th>\n",
       "      <th>job-title</th>\n",
       "      <th>pros</th>\n",
       "      <th>cons</th>\n",
       "      <th>advice-to-mgmt</th>\n",
       "      <th>overall-ratings</th>\n",
       "      <th>work-balance-stars</th>\n",
       "      <th>culture-values-stars</th>\n",
       "      <th>carrer-opportunities-stars</th>\n",
       "      <th>comp-benefit-stars</th>\n",
       "      <th>senior-mangemnet-stars</th>\n",
       "    </tr>\n",
       "  </thead>\n",
       "  <tbody>\n",
       "    <tr>\n",
       "      <th>0</th>\n",
       "      <td>google</td>\n",
       "      <td>none</td>\n",
       "      <td>Dec 11, 2018</td>\n",
       "      <td>Current Employee - Anonymous Employee</td>\n",
       "      <td>People are smart and friendly</td>\n",
       "      <td>Bureaucracy is slowing things down</td>\n",
       "      <td>none</td>\n",
       "      <td>5.0</td>\n",
       "      <td>4.0</td>\n",
       "      <td>5.0</td>\n",
       "      <td>5.0</td>\n",
       "      <td>4.0</td>\n",
       "      <td>5.0</td>\n",
       "    </tr>\n",
       "    <tr>\n",
       "      <th>1</th>\n",
       "      <td>google</td>\n",
       "      <td>Mountain View, CA</td>\n",
       "      <td>Jun 21, 2013</td>\n",
       "      <td>Former Employee - Program Manager</td>\n",
       "      <td>1) Food, food, food. 15+ cafes on main campus ...</td>\n",
       "      <td>1) Work/life balance. What balance? All those ...</td>\n",
       "      <td>1) Don't dismiss emotional intelligence and ad...</td>\n",
       "      <td>4.0</td>\n",
       "      <td>2.0</td>\n",
       "      <td>3.0</td>\n",
       "      <td>3.0</td>\n",
       "      <td>5.0</td>\n",
       "      <td>3.0</td>\n",
       "    </tr>\n",
       "    <tr>\n",
       "      <th>2</th>\n",
       "      <td>google</td>\n",
       "      <td>New York, NY</td>\n",
       "      <td>May 10, 2014</td>\n",
       "      <td>Current Employee - Software Engineer III</td>\n",
       "      <td>* If you're a software engineer, you're among ...</td>\n",
       "      <td>* It *is* becoming larger, and with it comes g...</td>\n",
       "      <td>Keep the focus on the user. Everything else wi...</td>\n",
       "      <td>5.0</td>\n",
       "      <td>5.0</td>\n",
       "      <td>4.0</td>\n",
       "      <td>5.0</td>\n",
       "      <td>5.0</td>\n",
       "      <td>4.0</td>\n",
       "    </tr>\n",
       "    <tr>\n",
       "      <th>3</th>\n",
       "      <td>google</td>\n",
       "      <td>Mountain View, CA</td>\n",
       "      <td>Feb 8, 2015</td>\n",
       "      <td>Current Employee - Anonymous Employee</td>\n",
       "      <td>You can't find a more well-regarded company th...</td>\n",
       "      <td>I live in SF so the commute can take between 1...</td>\n",
       "      <td>Keep on NOT micromanaging - that is a huge ben...</td>\n",
       "      <td>5.0</td>\n",
       "      <td>2.0</td>\n",
       "      <td>5.0</td>\n",
       "      <td>5.0</td>\n",
       "      <td>4.0</td>\n",
       "      <td>5.0</td>\n",
       "    </tr>\n",
       "    <tr>\n",
       "      <th>4</th>\n",
       "      <td>google</td>\n",
       "      <td>Los Angeles, CA</td>\n",
       "      <td>Jul 19, 2018</td>\n",
       "      <td>Former Employee - Software Engineer</td>\n",
       "      <td>Google is a world of its own. At every other c...</td>\n",
       "      <td>If you don't work in MTV (HQ), you will be giv...</td>\n",
       "      <td>Promote managers into management for their man...</td>\n",
       "      <td>5.0</td>\n",
       "      <td>5.0</td>\n",
       "      <td>5.0</td>\n",
       "      <td>5.0</td>\n",
       "      <td>5.0</td>\n",
       "      <td>5.0</td>\n",
       "    </tr>\n",
       "  </tbody>\n",
       "</table>\n",
       "</div>"
      ],
      "text/plain": [
       "  company           location          dates  \\\n",
       "0  google               none   Dec 11, 2018   \n",
       "1  google  Mountain View, CA   Jun 21, 2013   \n",
       "2  google       New York, NY   May 10, 2014   \n",
       "3  google  Mountain View, CA    Feb 8, 2015   \n",
       "4  google    Los Angeles, CA   Jul 19, 2018   \n",
       "\n",
       "                                  job-title  \\\n",
       "0     Current Employee - Anonymous Employee   \n",
       "1         Former Employee - Program Manager   \n",
       "2  Current Employee - Software Engineer III   \n",
       "3     Current Employee - Anonymous Employee   \n",
       "4       Former Employee - Software Engineer   \n",
       "\n",
       "                                                pros  \\\n",
       "0                      People are smart and friendly   \n",
       "1  1) Food, food, food. 15+ cafes on main campus ...   \n",
       "2  * If you're a software engineer, you're among ...   \n",
       "3  You can't find a more well-regarded company th...   \n",
       "4  Google is a world of its own. At every other c...   \n",
       "\n",
       "                                                cons  \\\n",
       "0                 Bureaucracy is slowing things down   \n",
       "1  1) Work/life balance. What balance? All those ...   \n",
       "2  * It *is* becoming larger, and with it comes g...   \n",
       "3  I live in SF so the commute can take between 1...   \n",
       "4  If you don't work in MTV (HQ), you will be giv...   \n",
       "\n",
       "                                      advice-to-mgmt  overall-ratings  \\\n",
       "0                                               none              5.0   \n",
       "1  1) Don't dismiss emotional intelligence and ad...              4.0   \n",
       "2  Keep the focus on the user. Everything else wi...              5.0   \n",
       "3  Keep on NOT micromanaging - that is a huge ben...              5.0   \n",
       "4  Promote managers into management for their man...              5.0   \n",
       "\n",
       "  work-balance-stars culture-values-stars carrer-opportunities-stars  \\\n",
       "0                4.0                  5.0                        5.0   \n",
       "1                2.0                  3.0                        3.0   \n",
       "2                5.0                  4.0                        5.0   \n",
       "3                2.0                  5.0                        5.0   \n",
       "4                5.0                  5.0                        5.0   \n",
       "\n",
       "  comp-benefit-stars senior-mangemnet-stars  \n",
       "0                4.0                    5.0  \n",
       "1                5.0                    3.0  \n",
       "2                5.0                    4.0  \n",
       "3                4.0                    5.0  \n",
       "4                5.0                    5.0  "
      ]
     },
     "execution_count": 6,
     "metadata": {},
     "output_type": "execute_result"
    }
   ],
   "source": [
    "df[:5]"
   ]
  },
  {
   "cell_type": "markdown",
   "metadata": {},
   "source": [
    "## Helper functions"
   ]
  },
  {
   "cell_type": "markdown",
   "metadata": {},
   "source": [
    "Let's define a few helper functions to make everything more readable"
   ]
  },
  {
   "cell_type": "code",
   "execution_count": 57,
   "metadata": {},
   "outputs": [],
   "source": [
    "def plot_by_year(df, years, company=[], embed='tsne'):\n",
    "    \"\"\"\n",
    "    Plot only the document centroids of a given year\n",
    "    \n",
    "    \"\"\"\n",
    "    \n",
    "    y_df = df.loc[df['date'].isin(years)]\n",
    "    if company:\n",
    "        y_df = y_df.loc[y_df['company'].isin(company)]\n",
    "    print(y_df.describe())\n",
    "    \n",
    "    comp = list(y_df['company'])\n",
    "    comp_order = {sorted(list(set(comp)))[i]: i for i in range(len(set(comp)))}\n",
    "    comp_c = [comp_order[c] for c in comp]\n",
    "    \n",
    "    if embed == 'tsne':\n",
    "        x_crd = list(y_df['cent_t_x'])\n",
    "        y_crd = list(y_df['cent_t_y'])\n",
    "    else:\n",
    "        x_crd = list(y_df['cent_p_x'])\n",
    "        y_crd = list(y_df['cent_p_y'])\n",
    "\n",
    "    fig, ax = plt.subplots(1,1, figsize=(15,15))\n",
    "    \n",
    "    cmap = plt.cm.get_cmap('Set2')\n",
    "    cmaplist = [cmap(i) for i in range(len(set(comp)))]\n",
    "\n",
    "    graph = plt.scatter(\n",
    "        x_crd, \n",
    "        y_crd,\n",
    "        c=comp_c,\n",
    "        label=comp,\n",
    "        cmap=mpl.colors.ListedColormap(cmaplist),\n",
    "        alpha=0.3\n",
    "    )\n",
    "    ax.set_title('TSNE of word2vec embeddings')\n",
    "    \n",
    "    plt.show()    "
   ]
  },
  {
   "cell_type": "markdown",
   "metadata": {},
   "source": [
    "## Word2Vec model"
   ]
  },
  {
   "cell_type": "markdown",
   "metadata": {},
   "source": [
    "One thing that would be interesting is to try to cluster the reviews based on their textual content.\n",
    "\n",
    "To do that I'll load a Word2Vec pretrained model from Google using gensim."
   ]
  },
  {
   "cell_type": "code",
   "execution_count": 8,
   "metadata": {},
   "outputs": [],
   "source": [
    "model = gensim.models.KeyedVectors.load_word2vec_format(\n",
    "    '/media/giorgio/inbar_hd/models/GoogleNews-vectors-negative300.bin', \n",
    "    binary=True\n",
    ")  "
   ]
  },
  {
   "cell_type": "markdown",
   "metadata": {},
   "source": [
    "Let's print out the vector for a random word to make sure the model was loaded correctly."
   ]
  },
  {
   "cell_type": "code",
   "execution_count": 9,
   "metadata": {
    "scrolled": true
   },
   "outputs": [
    {
     "name": "stdout",
     "output_type": "stream",
     "text": [
      "[ 0.30664062  0.06835938 -0.16015625  0.11962891 -0.00656128]\n"
     ]
    }
   ],
   "source": [
    "print(model['easy'][:5])"
   ]
  },
  {
   "cell_type": "code",
   "execution_count": 10,
   "metadata": {},
   "outputs": [],
   "source": [
    "# This saves up memory\n",
    "model.init_sims(replace=True)"
   ]
  },
  {
   "cell_type": "markdown",
   "metadata": {},
   "source": [
    "## Data preprocessing"
   ]
  },
  {
   "cell_type": "markdown",
   "metadata": {},
   "source": [
    "Before we can actually use the pretrained model to vectorize our corpus of reviews, we should preprocess the data to make it more manageable. I'll also stitch together the three sections of each review in a single string."
   ]
  },
  {
   "cell_type": "code",
   "execution_count": 11,
   "metadata": {},
   "outputs": [],
   "source": [
    "pros = list(df['pros'])\n",
    "cons = list(df['cons'])\n",
    "advm = list(df['advice-to-mgmt'])"
   ]
  },
  {
   "cell_type": "markdown",
   "metadata": {},
   "source": [
    "There seems to be a few entries of the advice to management section being misinterpreted as floats."
   ]
  },
  {
   "cell_type": "code",
   "execution_count": 12,
   "metadata": {
    "scrolled": false
   },
   "outputs": [
    {
     "name": "stdout",
     "output_type": "stream",
     "text": [
      "Lots of learning opportunities at here not for now, everything is good. nan\n",
      "--------------------------------------------------------------------------------\n"
     ]
    }
   ],
   "source": [
    "for i in range(len(pros)):\n",
    "    if type(pros[i]) is not str or type(cons[i]) is not str or type(advm[i]) is not str:\n",
    "        print(pros[i], cons[i], advm[i])\n",
    "        print('-'*80)\n",
    "        break"
   ]
  },
  {
   "cell_type": "code",
   "execution_count": 13,
   "metadata": {},
   "outputs": [],
   "source": [
    "if len(pros) == len(cons) and len(cons) == len(advm):\n",
    "    revs = [str(pros[i]) + ' ' + str(cons[i]) + ' ' + str(advm[i]) for i in range(len(pros))] \n",
    "else:\n",
    "    print('Different number of reviews')"
   ]
  },
  {
   "cell_type": "code",
   "execution_count": 24,
   "metadata": {
    "scrolled": false
   },
   "outputs": [
    {
     "name": "stdout",
     "output_type": "stream",
     "text": [
      "* If you're a software engineer, you're among the kings of the hill at Google. It's an engineer-driven company without a doubt (that *is* changing, but it's still very engineer-focused). * The perks are amazing. Yes, free breakfast, lunch, an dinner every weekday. Aaaaaamazing holiday parties (at Waldorf Astoria, NY Public Library, MoMA, etc.), overnight ski trips to Vermont, overnight nature trips to the Poconos in the summer, summer picnics at Chelsea piers, and on and on and on. I don't see this going away unless the company starts hurting financially. * Speaking of which, the company is doing quite well, which reflects in bonuses and equity grants. * There a huge diversity of work ranging from defending independent journalism worldwide (Google Project Shield) to crisis response during disasters (see Maps during Hurricane Sandy or Tsunamis), to the best machine learning experts and projects in the world, to more mundane revenue-driving projects in advertising, there's really something for everybody. * It's easy to move around within the company as long as you're in good standing (the vast majority of engineers are). * The company is amazingly open: every week Larry Page and Sergey Brin host what's called TGIF where food, beer, wine, etc. is served, a new project is presented, and afterward there's an open forum to ask the executives anything you want. It's truly fair game to ask anything, no matter how controversial, and frequently the executives will be responsive. * No, nobody cares if you use an iPhone, Facebook, shop with Amazon, stream using Spotify, or refuse to use Google+. The company is amazingly open and flexible.  Neither pro nor con, but general information on work-life balance, promotions, and advancement. * Work life balance can be what you want it to be on most teams. (Some teams are in more competitive sectors and require more crazy hours all the time - but very few of them). If you do what's expected, you'll be fine at least for a handful of years. Working a roughly 40 hour work week is possible, and many people do it. There are also people who are hyper-motived and work like crazy just because they love it, or because they're competitive, or they want to get a promotion. If you work 40 hour weeks without putting in anything extra, you'll fall behind them as they advance and you stand still - and maybe that doesn't matter, so it works out for everybody. But at least know where you would realistically stand. * If you excel and work your butt off, you'll be compensated and promoted. If you let yourself be a code monkey, and just sit coding with your head down all day, you'll be fine but won't advance. A big complaint from some Googlers is about not being able to advance \"even at Google\" with pure coding. Sure, if you're the uber genius who created MapReduce and Bigtable, you're going to advance like a rocket without having to do anything but coding, but if you're like most engineers at Google -- smarter than average, but just average compared to other Googlers -- you're just a good coder and not revolutionary. Code monkeys are important to actually get stuff done, and to be sure you absolutely need to be a good coder as a software engineer (it's the minimum requirement), but code monkeys won't advance because they're not leaders and they're easy to replace. To get promoted you need to lead and do more than just code. There are plenty of ways to lead other than being an official tech lead, so this isn't actually _that_ hard, so the real point is just that you can't just sit there coding what other people tell you to code all day and expect to advance. * It *is* becoming larger, and with it comes growing pains: bureaucracy, slow to respond to market threats, bloated teams, cross-divisional tension (though nothing remotely approaching that of Microsoft's internal tension). * The quality of the engineers is possibly dropping, but possibly not. It's hard to get real metrics, because as the absolute number of people grows, naturally the number of bad apples grows, as a percentage it's supposedly the same as it ever was, but with larger numbers of poorer quality engineers it just _feels_ like things might be changing for the worse. * Also with growth means more internal-confidential data leaks (again, because of the raw numbers of people) -- product announcements being ruined, etc. That means the company has to be tighter-lipped internally to avoid leaks, which makes things less open. It's still an amazingly open place, but less so than it was even a couple years ago. The good thing is they recognize it and actively look to improve things because they know how important it is to keep the good culture. Keep the focus on the user. Everything else will follow.\n"
     ]
    }
   ],
   "source": [
    "print(revs[2])"
   ]
  },
  {
   "cell_type": "markdown",
   "metadata": {},
   "source": [
    "We can now use nltk to tokenize and remove stopwords"
   ]
  },
  {
   "cell_type": "code",
   "execution_count": 15,
   "metadata": {},
   "outputs": [],
   "source": [
    "stop_words = stopwords.words('english')"
   ]
  },
  {
   "cell_type": "code",
   "execution_count": 19,
   "metadata": {},
   "outputs": [],
   "source": [
    "revs_pre = [[word.lower() for word in word_tokenize(doc) if word.lower() not in stop_words and word.isalpha()] for doc in revs]"
   ]
  },
  {
   "cell_type": "code",
   "execution_count": 20,
   "metadata": {},
   "outputs": [],
   "source": [
    "revs_pre = [doc[:-1] if doc[-1] in ['none', 'nan'] else doc for doc in revs_pre]"
   ]
  },
  {
   "cell_type": "markdown",
   "metadata": {},
   "source": [
    "We will also need to remove words not in the model's dictionary"
   ]
  },
  {
   "cell_type": "code",
   "execution_count": 21,
   "metadata": {},
   "outputs": [],
   "source": [
    "revs_fin = []\n",
    "for doc in revs_pre:\n",
    "    doc = [word for word in doc if word in model.vocab]\n",
    "    if not doc: continue\n",
    "    revs_fin.append(doc)"
   ]
  },
  {
   "cell_type": "code",
   "execution_count": 23,
   "metadata": {},
   "outputs": [
    {
     "name": "stdout",
     "output_type": "stream",
     "text": [
      "67529 67529 67529\n"
     ]
    }
   ],
   "source": [
    "print(len(revs), len(revs_pre), len(revs_fin))"
   ]
  },
  {
   "cell_type": "code",
   "execution_count": 25,
   "metadata": {},
   "outputs": [
    {
     "name": "stdout",
     "output_type": "stream",
     "text": [
      "['software', 'engineer', 'among', 'kings', 'hill', 'google', 'company', 'without', 'doubt', 'changing', 'still', 'perks', 'amazing', 'yes', 'free', 'breakfast', 'lunch', 'dinner', 'every', 'weekday', 'holiday', 'parties', 'ny', 'public', 'library', 'moma', 'etc', 'overnight', 'ski', 'trips', 'vermont', 'overnight', 'nature', 'trips', 'summer', 'summer', 'picnics', 'chelsea', 'piers', 'see', 'going', 'away', 'unless', 'company', 'starts', 'hurting', 'financially', 'speaking', 'company', 'quite', 'well', 'reflects', 'bonuses', 'equity', 'grants', 'huge', 'diversity', 'work', 'ranging', 'defending', 'independent', 'journalism', 'worldwide', 'google', 'project', 'shield', 'crisis', 'response', 'disasters', 'see', 'maps', 'hurricane', 'sandy', 'tsunamis', 'best', 'machine', 'learning', 'experts', 'projects', 'world', 'mundane', 'projects', 'advertising', 'really', 'something', 'everybody', 'easy', 'move', 'around', 'within', 'company', 'long', 'good', 'standing', 'vast', 'majority', 'engineers', 'company', 'amazingly', 'open', 'every', 'week', 'larry', 'page', 'brin', 'host', 'called', 'food', 'beer', 'wine', 'etc', 'served', 'new', 'project', 'presented', 'afterward', 'open', 'forum', 'ask', 'executives', 'anything', 'want', 'truly', 'fair', 'game', 'ask', 'anything', 'matter', 'controversial', 'frequently', 'executives', 'responsive', 'nobody', 'cares', 'use', 'iphone', 'facebook', 'shop', 'amazon', 'stream', 'using', 'refuse', 'use', 'company', 'amazingly', 'open', 'flexible', 'neither', 'pro', 'con', 'general', 'information', 'balance', 'promotions', 'advancement', 'work', 'life', 'balance', 'want', 'teams', 'teams', 'competitive', 'sectors', 'require', 'crazy', 'hours', 'time', 'expected', 'fine', 'least', 'handful', 'years', 'working', 'roughly', 'hour', 'work', 'week', 'possible', 'many', 'people', 'also', 'people', 'work', 'like', 'crazy', 'love', 'competitive', 'want', 'get', 'promotion', 'work', 'hour', 'weeks', 'without', 'putting', 'anything', 'extra', 'fall', 'behind', 'advance', 'stand', 'still', 'maybe', 'matter', 'works', 'everybody', 'least', 'know', 'would', 'realistically', 'stand', 'excel', 'work', 'butt', 'compensated', 'promoted', 'let', 'code', 'monkey', 'sit', 'coding', 'head', 'day', 'fine', 'wo', 'advance', 'big', 'complaint', 'able', 'advance', 'even', 'google', 'pure', 'coding', 'sure', 'uber', 'genius', 'created', 'going', 'advance', 'like', 'rocket', 'without', 'anything', 'coding', 'like', 'engineers', 'google', 'smarter', 'average', 'average', 'compared', 'good', 'coder', 'revolutionary', 'code', 'monkeys', 'important', 'actually', 'get', 'stuff', 'done', 'sure', 'absolutely', 'need', 'good', 'coder', 'software', 'engineer', 'minimum', 'requirement', 'code', 'monkeys', 'wo', 'advance', 'leaders', 'easy', 'replace', 'get', 'promoted', 'need', 'lead', 'code', 'plenty', 'ways', 'lead', 'official', 'tech', 'lead', 'actually', 'hard', 'real', 'point', 'ca', 'sit', 'coding', 'people', 'tell', 'code', 'day', 'expect', 'advance', 'becoming', 'larger', 'comes', 'growing', 'pains', 'bureaucracy', 'slow', 'respond', 'market', 'threats', 'bloated', 'teams', 'tension', 'though', 'nothing', 'remotely', 'approaching', 'microsoft', 'internal', 'tension', 'quality', 'engineers', 'possibly', 'dropping', 'possibly', 'hard', 'get', 'real', 'metrics', 'absolute', 'number', 'people', 'grows', 'naturally', 'number', 'bad', 'apples', 'grows', 'percentage', 'supposedly', 'ever', 'larger', 'numbers', 'poorer', 'quality', 'engineers', 'like', 'things', 'might', 'changing', 'worse', 'also', 'growth', 'means', 'data', 'leaks', 'raw', 'numbers', 'people', 'product', 'announcements', 'ruined', 'etc', 'means', 'company', 'internally', 'avoid', 'leaks', 'makes', 'things', 'less', 'open', 'still', 'amazingly', 'open', 'place', 'less', 'even', 'couple', 'years', 'ago', 'good', 'thing', 'recognize', 'actively', 'look', 'improve', 'things', 'know', 'important', 'keep', 'good', 'culture', 'keep', 'focus', 'user', 'everything', 'else', 'follow']\n"
     ]
    }
   ],
   "source": [
    "print(revs_fin[2])"
   ]
  },
  {
   "cell_type": "markdown",
   "metadata": {},
   "source": [
    "## Document vector embedding"
   ]
  },
  {
   "cell_type": "markdown",
   "metadata": {},
   "source": [
    "Now let's find out the centroid for each document"
   ]
  },
  {
   "cell_type": "code",
   "execution_count": 27,
   "metadata": {},
   "outputs": [],
   "source": [
    "centroids = [np.mean(model[doc], axis=0) for doc in revs_fin]"
   ]
  },
  {
   "cell_type": "code",
   "execution_count": 28,
   "metadata": {},
   "outputs": [
    {
     "data": {
      "text/plain": [
       "300"
      ]
     },
     "execution_count": 28,
     "metadata": {},
     "output_type": "execute_result"
    }
   ],
   "source": [
    "len(centroids[0])"
   ]
  },
  {
   "cell_type": "markdown",
   "metadata": {},
   "source": [
    "Now that we have our 300-dimensional document centroid embeddings we can use a dimensionality reduction technique such as tsne to obtain a 2D representation of the data. Before using TSNE though, it is recommended to use PCA to lower the dimensionality to a reasonable threshold."
   ]
  },
  {
   "cell_type": "code",
   "execution_count": 29,
   "metadata": {},
   "outputs": [],
   "source": [
    "cents_pca = PCA(n_components=50).fit_transform(centroids)"
   ]
  },
  {
   "cell_type": "code",
   "execution_count": 30,
   "metadata": {},
   "outputs": [],
   "source": [
    "cents_tsne = TSNE(n_components=2).fit_transform(cents_pca)"
   ]
  },
  {
   "cell_type": "code",
   "execution_count": 31,
   "metadata": {},
   "outputs": [],
   "source": [
    "cents_pca = PCA(n_components=2).fit_transform(centroids)"
   ]
  },
  {
   "cell_type": "markdown",
   "metadata": {},
   "source": [
    "Let's save the results on disk, since losing them would mean wasting a few hours of computation."
   ]
  },
  {
   "cell_type": "code",
   "execution_count": 32,
   "metadata": {},
   "outputs": [],
   "source": [
    "np.save(open('res/tsne_review_centroids_tsne', 'wb'), cents_tsne)"
   ]
  },
  {
   "cell_type": "code",
   "execution_count": 33,
   "metadata": {},
   "outputs": [],
   "source": [
    "np.save(open('res/tsne_review_centroids_pca', 'wb'), cents_pca)"
   ]
  },
  {
   "cell_type": "code",
   "execution_count": null,
   "metadata": {},
   "outputs": [],
   "source": [
    "# or just load the coordinates if already computed\n",
    "cents_tsne = np.load('res/tsne_review_centroids_tsne')\n",
    "cents_pca = np.load('res/tsne_review_centroids_pca')"
   ]
  },
  {
   "cell_type": "code",
   "execution_count": 34,
   "metadata": {},
   "outputs": [
    {
     "name": "stdout",
     "output_type": "stream",
     "text": [
      "67529 [7.4388647 6.1053267]\n",
      "67529 [ 0.03908568 -0.00185025]\n"
     ]
    }
   ],
   "source": [
    "print(len(cents_tsne), cents_tsne[0])\n",
    "print(len(cents_pca), cents_pca[0])"
   ]
  },
  {
   "cell_type": "code",
   "execution_count": 38,
   "metadata": {},
   "outputs": [
    {
     "name": "stdout",
     "output_type": "stream",
     "text": [
      "67529 67529 7.4388647 6.1053267\n"
     ]
    }
   ],
   "source": [
    "x_crd_t,y_crd_t = zip(*cents_tsne)\n",
    "print(len(x_crd_t), len(y_crd_t), x_crd_t[0], y_crd_t[0])"
   ]
  },
  {
   "cell_type": "code",
   "execution_count": 39,
   "metadata": {},
   "outputs": [
    {
     "name": "stdout",
     "output_type": "stream",
     "text": [
      "67529 67529 0.03908568276006658 -0.0018502502267663953\n"
     ]
    }
   ],
   "source": [
    "x_crd_p,y_crd_p = zip(*cents_pca)\n",
    "print(len(x_crd_p), len(y_crd_p), x_crd_p[0], y_crd_p[0])"
   ]
  },
  {
   "cell_type": "markdown",
   "metadata": {},
   "source": [
    "## Splitting by date"
   ]
  },
  {
   "cell_type": "markdown",
   "metadata": {},
   "source": [
    "This representation unfortunately is not really helpful due to the huge amount of data points.\n",
    "\n",
    "Let's try to scale the problem to a more manageable size by dividing the reviews by year."
   ]
  },
  {
   "cell_type": "code",
   "execution_count": 35,
   "metadata": {},
   "outputs": [],
   "source": [
    "date = []"
   ]
  },
  {
   "cell_type": "code",
   "execution_count": 36,
   "metadata": {},
   "outputs": [],
   "source": [
    "for d in list(df['dates']):\n",
    "    d = d.strip().lower()\n",
    "    if not d or d == 'none' or d == 'nan' or '0, 0000' in d:\n",
    "        date.append(datetime.fromtimestamp(1).year)\n",
    "    else:\n",
    "        date.append(datetime.strptime(d, '%b %d, %Y').year)"
   ]
  },
  {
   "cell_type": "code",
   "execution_count": 37,
   "metadata": {},
   "outputs": [
    {
     "name": "stdout",
     "output_type": "stream",
     "text": [
      "[(2017, 14075), (2018, 13676), (2016, 11490), (2015, 10140), (2014, 5941), (2013, 3859), (2012, 3210), (2011, 1710), (2008, 1365), (2010, 1130), (2009, 929), (1969, 4)]\n"
     ]
    }
   ],
   "source": [
    "print(Counter(date).most_common())"
   ]
  },
  {
   "cell_type": "markdown",
   "metadata": {},
   "source": [
    "Let's now create a new dataframe with only the processed data"
   ]
  },
  {
   "cell_type": "code",
   "execution_count": 84,
   "metadata": {},
   "outputs": [
    {
     "data": {
      "text/html": [
       "<div>\n",
       "<style scoped>\n",
       "    .dataframe tbody tr th:only-of-type {\n",
       "        vertical-align: middle;\n",
       "    }\n",
       "\n",
       "    .dataframe tbody tr th {\n",
       "        vertical-align: top;\n",
       "    }\n",
       "\n",
       "    .dataframe thead th {\n",
       "        text-align: right;\n",
       "    }\n",
       "</style>\n",
       "<table border=\"1\" class=\"dataframe\">\n",
       "  <thead>\n",
       "    <tr style=\"text-align: right;\">\n",
       "      <th></th>\n",
       "      <th>company</th>\n",
       "      <th>date</th>\n",
       "      <th>review</th>\n",
       "      <th>cent_t_x</th>\n",
       "      <th>cent_t_y</th>\n",
       "      <th>cent_p_x</th>\n",
       "      <th>cent_p_y</th>\n",
       "      <th>rate</th>\n",
       "    </tr>\n",
       "  </thead>\n",
       "  <tbody>\n",
       "    <tr>\n",
       "      <th>0</th>\n",
       "      <td>google</td>\n",
       "      <td>2018</td>\n",
       "      <td>People are smart and friendly Bureaucracy is s...</td>\n",
       "      <td>7.438865</td>\n",
       "      <td>6.105327</td>\n",
       "      <td>0.039086</td>\n",
       "      <td>-0.001850</td>\n",
       "      <td>5.0</td>\n",
       "    </tr>\n",
       "    <tr>\n",
       "      <th>1</th>\n",
       "      <td>google</td>\n",
       "      <td>2013</td>\n",
       "      <td>1) Food, food, food. 15+ cafes on main campus ...</td>\n",
       "      <td>-2.646656</td>\n",
       "      <td>-5.338993</td>\n",
       "      <td>-0.026424</td>\n",
       "      <td>0.039715</td>\n",
       "      <td>4.0</td>\n",
       "    </tr>\n",
       "    <tr>\n",
       "      <th>2</th>\n",
       "      <td>google</td>\n",
       "      <td>2014</td>\n",
       "      <td>* If you're a software engineer, you're among ...</td>\n",
       "      <td>0.688755</td>\n",
       "      <td>-7.485783</td>\n",
       "      <td>-0.022087</td>\n",
       "      <td>0.073461</td>\n",
       "      <td>5.0</td>\n",
       "    </tr>\n",
       "    <tr>\n",
       "      <th>3</th>\n",
       "      <td>google</td>\n",
       "      <td>2015</td>\n",
       "      <td>You can't find a more well-regarded company th...</td>\n",
       "      <td>9.251099</td>\n",
       "      <td>-6.508359</td>\n",
       "      <td>0.027527</td>\n",
       "      <td>0.059653</td>\n",
       "      <td>5.0</td>\n",
       "    </tr>\n",
       "    <tr>\n",
       "      <th>4</th>\n",
       "      <td>google</td>\n",
       "      <td>2018</td>\n",
       "      <td>Google is a world of its own. At every other c...</td>\n",
       "      <td>-3.905935</td>\n",
       "      <td>-6.832077</td>\n",
       "      <td>-0.034405</td>\n",
       "      <td>0.053819</td>\n",
       "      <td>5.0</td>\n",
       "    </tr>\n",
       "  </tbody>\n",
       "</table>\n",
       "</div>"
      ],
      "text/plain": [
       "  company  date                                             review  cent_t_x  \\\n",
       "0  google  2018  People are smart and friendly Bureaucracy is s...  7.438865   \n",
       "1  google  2013  1) Food, food, food. 15+ cafes on main campus ... -2.646656   \n",
       "2  google  2014  * If you're a software engineer, you're among ...  0.688755   \n",
       "3  google  2015  You can't find a more well-regarded company th...  9.251099   \n",
       "4  google  2018  Google is a world of its own. At every other c... -3.905935   \n",
       "\n",
       "   cent_t_y  cent_p_x  cent_p_y  rate  \n",
       "0  6.105327  0.039086 -0.001850   5.0  \n",
       "1 -5.338993 -0.026424  0.039715   4.0  \n",
       "2 -7.485783 -0.022087  0.073461   5.0  \n",
       "3 -6.508359  0.027527  0.059653   5.0  \n",
       "4 -6.832077 -0.034405  0.053819   5.0  "
      ]
     },
     "execution_count": 84,
     "metadata": {},
     "output_type": "execute_result"
    }
   ],
   "source": [
    "proc_df = pd.DataFrame()\n",
    "\n",
    "proc_df['company'] = df['company']\n",
    "proc_df['date']    = date\n",
    "proc_df['review']  = revs\n",
    "proc_df['cent_t_x']  = x_crd_t\n",
    "proc_df['cent_t_y']  = y_crd_t\n",
    "proc_df['cent_p_x']  = x_crd_p\n",
    "proc_df['cent_p_y']  = y_crd_p\n",
    "proc_df['rate']    = df['overall-ratings']\n",
    "\n",
    "proc_df[:5]"
   ]
  },
  {
   "cell_type": "markdown",
   "metadata": {},
   "source": [
    "## Review by year"
   ]
  },
  {
   "cell_type": "code",
   "execution_count": 61,
   "metadata": {
    "scrolled": false
   },
   "outputs": [
    {
     "name": "stdout",
     "output_type": "stream",
     "text": [
      "         date    cent_t_x    cent_t_y    cent_p_x    cent_p_y        rate\n",
      "count   223.0  223.000000  223.000000  223.000000  223.000000  223.000000\n",
      "mean   2015.0    2.027718    1.768057    0.006269    0.006056    4.479821\n",
      "std       0.0   13.310954   10.318015    0.059079    0.040358    0.962493\n",
      "min    2015.0  -25.751637  -24.864964   -0.163017   -0.124413    1.000000\n",
      "25%    2015.0   -7.622063   -5.063001   -0.032444   -0.018024    4.000000\n",
      "50%    2015.0    2.322191    0.635754   -0.001527    0.009018    5.000000\n",
      "75%    2015.0   13.204009    7.627849    0.043009    0.031091    5.000000\n",
      "max    2015.0   36.404572   30.237091    0.291868    0.131498    5.000000\n"
     ]
    },
    {
     "data": {
      "image/png": "[encoded data removed]",
      "text/plain": [
       "<Figure size 1080x1080 with 1 Axes>"
      ]
     },
     "metadata": {
      "needs_background": "light"
     },
     "output_type": "display_data"
    }
   ],
   "source": [
    "plot_by_year(proc_df, [2015], company=['facebook'], embed='tsne')"
   ]
  },
  {
   "cell_type": "code",
   "execution_count": 60,
   "metadata": {
    "scrolled": false
   },
   "outputs": [
    {
     "name": "stdout",
     "output_type": "stream",
     "text": [
      "         date    cent_t_x    cent_t_y    cent_p_x    cent_p_y        rate\n",
      "count   223.0  223.000000  223.000000  223.000000  223.000000  223.000000\n",
      "mean   2015.0    2.027718    1.768057    0.006269    0.006056    4.479821\n",
      "std       0.0   13.310954   10.318015    0.059079    0.040358    0.962493\n",
      "min    2015.0  -25.751637  -24.864964   -0.163017   -0.124413    1.000000\n",
      "25%    2015.0   -7.622063   -5.063001   -0.032444   -0.018024    4.000000\n",
      "50%    2015.0    2.322191    0.635754   -0.001527    0.009018    5.000000\n",
      "75%    2015.0   13.204009    7.627849    0.043009    0.031091    5.000000\n",
      "max    2015.0   36.404572   30.237091    0.291868    0.131498    5.000000\n"
     ]
    },
    {
     "data": {
      "image/png": "[encoded data removed]",
      "text/plain": [
       "<Figure size 1080x1080 with 1 Axes>"
      ]
     },
     "metadata": {
      "needs_background": "light"
     },
     "output_type": "display_data"
    }
   ],
   "source": [
    "plot_by_year(proc_df, [2015], company=['facebook'], embed='pca')"
   ]
  },
  {
   "cell_type": "markdown",
   "metadata": {},
   "source": [
    "## Star ratings"
   ]
  },
  {
   "cell_type": "markdown",
   "metadata": {},
   "source": [
    "In addition to the reviews it would also be interesting to know the star ratings count for each company"
   ]
  },
  {
   "cell_type": "code",
   "execution_count": 50,
   "metadata": {},
   "outputs": [],
   "source": [
    "comp = list(df['company'])\n",
    "ovrl = list(df['overall-ratings'])"
   ]
  },
  {
   "cell_type": "code",
   "execution_count": 64,
   "metadata": {},
   "outputs": [],
   "source": [
    "star = defaultdict(lambda: defaultdict(Counter))\n",
    "for i in range(len(comp)):\n",
    "    star[comp[i]][date[i]][ovrl[i]] += 1"
   ]
  },
  {
   "cell_type": "markdown",
   "metadata": {},
   "source": [
    "## Sentiment classification"
   ]
  },
  {
   "cell_type": "markdown",
   "metadata": {},
   "source": [
    "Finally let's try to do some sentiment classification on the reviews and see how it maps with the 2D representations."
   ]
  },
  {
   "cell_type": "code",
   "execution_count": 69,
   "metadata": {},
   "outputs": [],
   "source": [
    "pol_sub = [TextBlob(r).sentiment for r in revs]"
   ]
  },
  {
   "cell_type": "code",
   "execution_count": 88,
   "metadata": {},
   "outputs": [
    {
     "name": "stdout",
     "output_type": "stream",
     "text": [
      "benefits, time, vacation you can work on what you want no life your project might be irrelevant none\n"
     ]
    }
   ],
   "source": [
    "print(revs[329])"
   ]
  },
  {
   "cell_type": "code",
   "execution_count": 70,
   "metadata": {},
   "outputs": [
    {
     "name": "stdout",
     "output_type": "stream",
     "text": [
      "67529 Sentiment(polarity=0.14457671957671958, subjectivity=0.47724867724867726)\n"
     ]
    }
   ],
   "source": [
    "print(len(pol_sub), pol_sub[0])"
   ]
  },
  {
   "cell_type": "code",
   "execution_count": 72,
   "metadata": {},
   "outputs": [],
   "source": [
    "pols, subj = zip(*pol_sub)"
   ]
  },
  {
   "cell_type": "code",
   "execution_count": 85,
   "metadata": {},
   "outputs": [],
   "source": [
    "proc_df['polarity']  = pols\n",
    "proc_df['subjectivity'] = subj"
   ]
  },
  {
   "cell_type": "markdown",
   "metadata": {},
   "source": [
    "Now that we have enough preprocessed data, let's output everything to files, divided by year"
   ]
  },
  {
   "cell_type": "code",
   "execution_count": 96,
   "metadata": {},
   "outputs": [
    {
     "data": {
      "text/plain": [
       "NoneType"
      ]
     },
     "execution_count": 96,
     "metadata": {},
     "output_type": "execute_result"
    }
   ],
   "source": [
    "type(proc_df.index.name)"
   ]
  },
  {
   "cell_type": "code",
   "execution_count": 90,
   "metadata": {},
   "outputs": [],
   "source": [
    "for y in range(2009, 2019):\n",
    "    y_df = proc_df.loc[proc_df['date'] == y]\n",
    "    y_df.to_csv('res/review_' + str(y), sep=',', encoding='utf-8')"
   ]
  },
  {
   "cell_type": "code",
   "execution_count": 91,
   "metadata": {},
   "outputs": [
    {
     "data": {
      "text/plain": [
       "company                                                    amazon\n",
       "date                                                         2009\n",
       "review          (1) Good Benefits (2) Lot of opportunities to ...\n",
       "cent_t_x                                                 -29.0497\n",
       "cent_t_y                                                 -29.0954\n",
       "cent_p_x                                                -0.238505\n",
       "cent_p_y                                                -0.211205\n",
       "rate                                                            1\n",
       "polarity                                                     -0.6\n",
       "subjectivity                                                    0\n",
       "dtype: object"
      ]
     },
     "execution_count": 91,
     "metadata": {},
     "output_type": "execute_result"
    }
   ],
   "source": [
    "proc_df.loc[proc_df['date'] == 2009].min()"
   ]
  },
  {
   "cell_type": "code",
   "execution_count": 92,
   "metadata": {},
   "outputs": [
    {
     "data": {
      "text/plain": [
       "company                                                   netflix\n",
       "date                                                         2009\n",
       "review          • Made some great great friends • I got paid a...\n",
       "cent_t_x                                                  34.6394\n",
       "cent_t_y                                                  28.2328\n",
       "cent_p_x                                                 0.251116\n",
       "cent_p_y                                                  0.17952\n",
       "rate                                                            5\n",
       "polarity                                                        1\n",
       "subjectivity                                             0.883333\n",
       "dtype: object"
      ]
     },
     "execution_count": 92,
     "metadata": {},
     "output_type": "execute_result"
    }
   ],
   "source": [
    "proc_df.loc[proc_df['date'] == 2009].max()"
   ]
  },
  {
   "cell_type": "code",
   "execution_count": null,
   "metadata": {},
   "outputs": [],
   "source": []
  }
 ],
 "metadata": {
  "kernelspec": {
   "display_name": "Python 3",
   "language": "python",
   "name": "python3"
  },
  "language_info": {
   "codemirror_mode": {
    "name": "ipython",
    "version": 3
   },
   "file_extension": ".py",
   "mimetype": "text/x-python",
   "name": "python",
   "nbconvert_exporter": "python",
   "pygments_lexer": "ipython3",
   "version": "3.6.7"
  }
 },
 "nbformat": 4,
 "nbformat_minor": 2
}
